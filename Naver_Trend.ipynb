{
 "cells": [
  {
   "cell_type": "markdown",
   "id": "151fa8a3",
   "metadata": {},
   "source": [
    " 오퍼상이 어떤 새로운 물건을 계약하고자 할 때, 어떤 제품이 시장에서 인기가 있고 가격대가 어느 정도인지를 수집해야 하는데,\n",
    "그 일을 자동으로 수행하고자 이 크롤러를 제작하게 되었습니다."
   ]
  },
  {
   "cell_type": "code",
   "execution_count": 1,
   "id": "a65a9062",
   "metadata": {
    "collapsed": true
   },
   "outputs": [
    {
     "name": "stdout",
     "output_type": "stream",
     "text": [
      "Requirement already satisfied: chromedriver_autoinstaller in c:\\users\\andam\\anaconda3\\lib\\site-packages (0.3.1)\n"
     ]
    }
   ],
   "source": [
    "!pip install chromedriver_autoinstaller"
   ]
  },
  {
   "cell_type": "code",
   "execution_count": 2,
   "id": "76e24128",
   "metadata": {
    "collapsed": true
   },
   "outputs": [
    {
     "name": "stdout",
     "output_type": "stream",
     "text": [
      "Requirement already satisfied: selenium in c:\\users\\andam\\anaconda3\\lib\\site-packages (4.2.0)\n",
      "Requirement already satisfied: trio-websocket~=0.9 in c:\\users\\andam\\anaconda3\\lib\\site-packages (from selenium) (0.9.2)\n",
      "Requirement already satisfied: trio~=0.17 in c:\\users\\andam\\anaconda3\\lib\\site-packages (from selenium) (0.21.0)\n",
      "Requirement already satisfied: urllib3[secure,socks]~=1.26 in c:\\users\\andam\\anaconda3\\lib\\site-packages (from selenium) (1.26.9)\n",
      "Requirement already satisfied: attrs>=19.2.0 in c:\\users\\andam\\anaconda3\\lib\\site-packages (from trio~=0.17->selenium) (21.4.0)\n",
      "Requirement already satisfied: async-generator>=1.9 in c:\\users\\andam\\anaconda3\\lib\\site-packages (from trio~=0.17->selenium) (1.10)\n",
      "Requirement already satisfied: sniffio in c:\\users\\andam\\anaconda3\\lib\\site-packages (from trio~=0.17->selenium) (1.2.0)\n",
      "Requirement already satisfied: sortedcontainers in c:\\users\\andam\\anaconda3\\lib\\site-packages (from trio~=0.17->selenium) (2.4.0)\n",
      "Requirement already satisfied: cffi>=1.14 in c:\\users\\andam\\anaconda3\\lib\\site-packages (from trio~=0.17->selenium) (1.15.0)\n",
      "Requirement already satisfied: idna in c:\\users\\andam\\anaconda3\\lib\\site-packages (from trio~=0.17->selenium) (3.3)\n",
      "Requirement already satisfied: outcome in c:\\users\\andam\\anaconda3\\lib\\site-packages (from trio~=0.17->selenium) (1.2.0)\n",
      "Requirement already satisfied: pycparser in c:\\users\\andam\\anaconda3\\lib\\site-packages (from cffi>=1.14->trio~=0.17->selenium) (2.21)\n",
      "Requirement already satisfied: wsproto>=0.14 in c:\\users\\andam\\anaconda3\\lib\\site-packages (from trio-websocket~=0.9->selenium) (1.1.0)\n",
      "Requirement already satisfied: PySocks!=1.5.7,<2.0,>=1.5.6 in c:\\users\\andam\\anaconda3\\lib\\site-packages (from urllib3[secure,socks]~=1.26->selenium) (1.7.1)\n",
      "Requirement already satisfied: cryptography>=1.3.4 in c:\\users\\andam\\anaconda3\\lib\\site-packages (from urllib3[secure,socks]~=1.26->selenium) (3.4.8)\n",
      "Requirement already satisfied: pyOpenSSL>=0.14 in c:\\users\\andam\\anaconda3\\lib\\site-packages (from urllib3[secure,socks]~=1.26->selenium) (21.0.0)\n",
      "Requirement already satisfied: certifi in c:\\users\\andam\\anaconda3\\lib\\site-packages (from urllib3[secure,socks]~=1.26->selenium) (2021.10.8)\n",
      "Requirement already satisfied: six>=1.5.2 in c:\\users\\andam\\anaconda3\\lib\\site-packages (from pyOpenSSL>=0.14->urllib3[secure,socks]~=1.26->selenium) (1.16.0)\n",
      "Requirement already satisfied: h11<1,>=0.9.0 in c:\\users\\andam\\anaconda3\\lib\\site-packages (from wsproto>=0.14->trio-websocket~=0.9->selenium) (0.13.0)\n"
     ]
    }
   ],
   "source": [
    "!pip install selenium"
   ]
  },
  {
   "cell_type": "code",
   "execution_count": 1,
   "id": "6b958ad0",
   "metadata": {},
   "outputs": [],
   "source": [
    "import sys # 시스템\n",
    "import os  # 시스템\n",
    "\n",
    "import pandas as pd  # 판다스 : 데이터분석 라이브러리\n",
    "import numpy as np   # 넘파이 : 숫자, 행렬 데이터 라이브러리\n",
    "\n",
    "from selenium import webdriver   # 웹 브라우저 자동화\n",
    "from selenium.webdriver.common.keys import Keys\n",
    "import chromedriver_autoinstaller\n",
    "\n",
    "import time    # 서버와 통신할 때 중간중간 시간 지연. 보통은 1초\n",
    "from tqdm import tqdm_notebook   # for문 돌릴 때 진행상황을 %게이지로 알려준다.\n",
    "\n",
    "# 워닝 무시\n",
    "import warnings\n",
    "warnings.filterwarnings('ignore')"
   ]
  },
  {
   "cell_type": "code",
   "execution_count": 2,
   "id": "4d2865e1",
   "metadata": {},
   "outputs": [
    {
     "name": "stdout",
     "output_type": "stream",
     "text": [
      "Python 3.9.12\n"
     ]
    }
   ],
   "source": [
    "# python 버전 확인\n",
    "!python --version"
   ]
  },
  {
   "cell_type": "code",
   "execution_count": 3,
   "id": "d7c45909",
   "metadata": {},
   "outputs": [
    {
     "data": {
      "text/plain": [
       "'1.4.2'"
      ]
     },
     "execution_count": 3,
     "metadata": {},
     "output_type": "execute_result"
    }
   ],
   "source": [
    "# 판다스 버전 확인\n",
    "pd.__version__"
   ]
  },
  {
   "cell_type": "code",
   "execution_count": 4,
   "id": "f0105a7c",
   "metadata": {
    "scrolled": true
   },
   "outputs": [
    {
     "data": {
      "text/plain": [
       "'C:\\\\Users\\\\andam\\\\Desktop\\\\프로젝트\\\\Naver_Trend_Analysis'"
      ]
     },
     "execution_count": 4,
     "metadata": {},
     "output_type": "execute_result"
    }
   ],
   "source": [
    "pwd"
   ]
  },
  {
   "cell_type": "markdown",
   "id": "7525484f",
   "metadata": {},
   "source": [
    "## 네이버트렌드 확인"
   ]
  },
  {
   "cell_type": "code",
   "execution_count": 5,
   "id": "cb4e81c3",
   "metadata": {},
   "outputs": [],
   "source": [
    "# 크롬창 띄우기\n",
    "import chromedriver_autoinstaller\n",
    "chrome_path = chromedriver_autoinstaller.install()\n",
    "driver = webdriver.Chrome(chrome_path)\n",
    "\n",
    "driver.get(\"https://datalab.naver.com/\")\n",
    "time.sleep(1)"
   ]
  },
  {
   "cell_type": "code",
   "execution_count": 6,
   "id": "e4187360",
   "metadata": {},
   "outputs": [],
   "source": [
    "#분야 리스트 클릭\n",
    "Area_list = driver.find_element_by_css_selector(\".select_btn\")\n",
    "Area_list.click()\n",
    "time.sleep(1)"
   ]
  },
  {
   "cell_type": "code",
   "execution_count": 7,
   "id": "c3eca7a2",
   "metadata": {},
   "outputs": [
    {
     "name": "stdout",
     "output_type": "stream",
     "text": [
      "패션의류\n",
      "패션잡화\n",
      "화장품/미용\n",
      "디지털/가전\n",
      "가구/인테리어\n",
      "출산/육아\n",
      "식품\n",
      "스포츠/레저\n",
      "생활/건강\n",
      "여가/생활편의\n",
      "면세점\n",
      "도서\n"
     ]
    }
   ],
   "source": [
    "# #분야 리스트 확인\n",
    "Categori_li = driver.find_elements_by_css_selector('#content > div.spot.section_keyword > div.section.main_tab_opt > div.select.depth._dropdown > ul')\n",
    "\n",
    "for i in range(0, len(Categori_li)):\n",
    "    print(Categori_li[i].text)\n",
    "    \n"
   ]
  },
  {
   "cell_type": "code",
   "execution_count": 8,
   "id": "0e5566cd",
   "metadata": {
    "scrolled": true
   },
   "outputs": [
    {
     "name": "stdout",
     "output_type": "stream",
     "text": [
      "검색할 카테고리를 입력하세요: 패션잡화\n"
     ]
    }
   ],
   "source": [
    "search = input(\"검색할 카테고리를 입력하세요: \")"
   ]
  },
  {
   "cell_type": "code",
   "execution_count": 9,
   "id": "6ce352ad",
   "metadata": {},
   "outputs": [],
   "source": [
    "driver.find_element_by_link_text(search).click( )\n",
    "time.sleep(1)"
   ]
  },
  {
   "cell_type": "code",
   "execution_count": 10,
   "id": "588d9afa",
   "metadata": {},
   "outputs": [
    {
     "name": "stdout",
     "output_type": "stream",
     "text": [
      "에코백\n"
     ]
    }
   ],
   "source": [
    "#작일 랭킹 1위 가져오기\n",
    "Rank = driver.find_elements_by_css_selector('#content > div.spot.section_keyword > div.home_section.active > div > div.keyword_carousel > div > div > div:nth-child(12) > div > div > ul > li:nth-child(1) > a > span')\n",
    "\n",
    "for i in range(0, len(Rank)):   #셀렉터오류로 여러개의 값을 가져올까봐,,, 그냥 for문으로 출력\n",
    "    print(Rank[i].text)"
   ]
  },
  {
   "cell_type": "markdown",
   "id": "03c3fc03",
   "metadata": {},
   "source": [
    "## 네이버쇼핑에서  찾기"
   ]
  },
  {
   "cell_type": "code",
   "execution_count": 11,
   "id": "e2367776",
   "metadata": {},
   "outputs": [
    {
     "name": "stdout",
     "output_type": "stream",
     "text": [
      "에코백\n"
     ]
    }
   ],
   "source": [
    "#키워드 설정\n",
    "keyword = Rank[0].text\n",
    "print(keyword)"
   ]
  },
  {
   "cell_type": "code",
   "execution_count": 12,
   "id": "33f45a05",
   "metadata": {},
   "outputs": [],
   "source": [
    "#네이버쇼핑으로 이동\n",
    "driver.get(\"https://shopping.naver.com/home/p/index.naver\")"
   ]
  },
  {
   "cell_type": "code",
   "execution_count": 13,
   "id": "f28d5d1b",
   "metadata": {},
   "outputs": [],
   "source": [
    "#커서 클릭\n",
    "element = driver.find_element_by_css_selector(\"#_verticalGnbModule > div > div._header_header_REoTl > div > div._gnb_header_shop_Xd6Hq > div > div._gnbSearch_search_area_3LAyd > form > fieldset > div > input\")\n",
    "element.click()\n",
    "time.sleep(1)\n",
    "\n",
    "# 검색 창에 검색어 입력 및 클릭\n",
    "# element = driver.find_element_by_css_selector(\"#autocompleteWrapper > input.co_srh_input._input.N\\=a\\:SNB\\.search\")\n",
    "# element.clear()  # 검색창에 존재하는 텍스트가 있다면 제거\n",
    "element.send_keys(keyword)\n",
    "time.sleep(1)\n",
    "driver.find_element_by_css_selector(\"#_verticalGnbModule > div > div._header_header_REoTl > div > div._gnb_header_shop_Xd6Hq > div > div._gnbSearch_search_area_3LAyd > form > fieldset > div > button._searchInput_button_search_1n1aw > svg > path\").click( )\n",
    "time.sleep(1)"
   ]
  },
  {
   "cell_type": "code",
   "execution_count": 14,
   "id": "c35da92c",
   "metadata": {},
   "outputs": [],
   "source": [
    "# 스크롤을 밑으로 내려주는 함수\n",
    "def scroll_down(driver):\n",
    "    driver.execute_script(\"window.scrollTo(0, 99999999)\")\n",
    "    time.sleep(1)\n",
    "\n",
    "# n: 스크롤할 횟수 설정\n",
    "n = 6\n",
    "i = 0\n",
    "while i < n: # 이 조건이 만족되는 동안 반복 실행\n",
    "    scroll_down(driver) # 스크롤 다운\n",
    "    i = i+1\n"
   ]
  },
  {
   "cell_type": "code",
   "execution_count": 15,
   "id": "9b0260c3",
   "metadata": {},
   "outputs": [],
   "source": [
    "#상품 크롤링 시작\n",
    "item_name = '.basicList_title__3P9Q7 .basicList_link__1MaTN'\n",
    "name = driver.find_elements_by_css_selector(item_name)\n",
    "item_price = '.price_num__2WUXn'\n",
    "price = driver.find_elements_by_css_selector(item_price)\n"
   ]
  },
  {
   "cell_type": "code",
   "execution_count": 16,
   "id": "09f7becc",
   "metadata": {},
   "outputs": [],
   "source": [
    "name_list = list(name)\n",
    "price_list = list(price)\n",
    "name_text = []\n",
    "price_text = []"
   ]
  },
  {
   "cell_type": "code",
   "execution_count": 17,
   "id": "96478980",
   "metadata": {},
   "outputs": [],
   "source": [
    "#텍스트 형태로 변환하여 리스트에 넣기\n",
    "for i in range(0, len(name_list)):\n",
    "    name_text.insert(i, name_list[i].text)\n",
    "\n",
    "\n",
    "#텍스트 형태로 변환하여 리스트에 넣기\n",
    "for i in range(0, len(price_list)):\n",
    "    price_text.insert(i, price_list[i].text)\n"
   ]
  },
  {
   "cell_type": "code",
   "execution_count": 18,
   "id": "30e2a133",
   "metadata": {
    "scrolled": true
   },
   "outputs": [
    {
     "name": "stdout",
     "output_type": "stream",
     "text": [
      "['14900', '39000', '15000', '11000', '11000', '25000', '18900', '35200', '1990', '3200', '56000', '13500', '1280', '38330', '68250', '18800', '13500', '41460', '14600', '17500', '38880', '3200', '41400', '78090', '29070', '79040', '24480', '15900', '13800', '39000', '16900', '62500', '6900', '6150', '12000', '65700', '4900', '4980', '15000', '18900', '7350', '35700', '38880', '19800', '38880', '9100']\n",
      "[14900, 39000, 15000, 11000, 11000, 25000, 18900, 35200, 1990, 3200, 56000, 13500, 1280, 38330, 68250, 18800, 13500, 41460, 14600, 17500, 38880, 3200, 41400, 78090, 29070, 79040, 24480, 15900, 13800, 39000, 16900, 62500, 6900, 6150, 12000, 65700, 4900, 4980, 15000, 18900, 7350, 35700, 38880, 19800, 38880, 9100]\n",
      "46\n"
     ]
    }
   ],
   "source": [
    "# 가격 리스트 전처리\n",
    "del1 = '원'\n",
    "del2 = '최저'\n",
    "for i, word in enumerate(price_text):\n",
    "    if del1 in word: \n",
    "        price_text[i] = word.strip(del1)\n",
    "        price_text[i] = price_text[i].replace(',','')\n",
    "\n",
    "for i, word in enumerate(price_text):\n",
    "    if del2 in word: \n",
    "        price_text[i] = word.strip(del2)\n",
    "        price_text[i] = price_text[i].replace(',','')        \n",
    "print(price_text)\n",
    "price_int = [int(i) for i in price_text]\n",
    "print(price_int)\n",
    "print(len(price_int))"
   ]
  },
  {
   "cell_type": "code",
   "execution_count": 19,
   "id": "f941ecea",
   "metadata": {},
   "outputs": [
    {
     "name": "stdout",
     "output_type": "stream",
     "text": [
      "['남자 에코백 빅사이즈 두꺼운 재질 심플 디자인', '크렌쿨 남여공용 빅에코백 숄더백 데일리 캔버스백 토트백', '미아볼사 YAMMY CAT 자수 대학생/여성/남성 크로스 에코백 숄더 캔버스백', '남녀공용 helper 에코백 BYLE0001', '남녀공용 사랑 에코백 BYLE0002', '캉골 에코 프렌들리백 플러스 0037 에코백 크로스백', '슬링키나인 무지에코백 남자 여자 지퍼 크로스 캔버스 대학생 가방', '캉골 에코 프렌들리백 지피 미디움 0036 가방 에코백', '플리츠 미니 패턴 에코백 도시락 손가방 토트백 주름', '미니 에코백 캔버스백 토트백 손목 피크닉 가방', '[V&A] 디올 뮤지엄에코백 블랙 그레이 / 박물관 쇼퍼백', '빌리버스 남자에코백 남자숄더백 남자캔버스백 BCB208 P081124443', '무지 미니 에코백 비비드컬러', '캉골 제리 쇼퍼백 0039 가방 에코백 크로스백', '아페쎄 다니엘라 에코백 20FW COCSX IAI M61446', 'DALRIM 캔버스 에코백 여성 가방 가벼운 숄더백 여자', '레프트필드 국산 지퍼수납 심플에코백 4컬러', '아페쎄 A.P.C TOTE 데님 에코백 BAG M61445', '페이즐리 이미스 에코백 반다나 튼튼한 숄더백', '제이시크 페이즐리 핸드메이드 데일리 어깨 리본 에코백', '쥬에 레오파드 에코백 4 13예약배송', '귀염뽀짝 유니크 3컬러 미니 에코백 토트백 손가방', '드릴리스 투웨이 써클백 에코백 복조리가방 복조리백', '메종키츠네 22FW 팔레로얄 에코백 AU05100WW0008 P700', '구찌 코튼 에코백 라지 GUCCI ECRU LARGE', '22SS 메종키츠네 로고 에코백 GU05125WW0008 P199', '드릴리스 에코백 내추럴 에코백', '리솜 캔버스 코튼 가죽 콤비 지퍼 스퀘어 쇼퍼 토트 숄더 에코백', '캔버스 라벨 포켓 지퍼 크로스 에코백', '키플링 에코백 5컬러 KKAZZ01 KKBZZ01', '마카롱 에코백', '메종키츠네 20FW EC 남녀공용 폭스 헤드 에코백 EU05110WW0008', '양놀 대학생 무지 에코백', '반다나 백 연예인 페이즐리 이미스 페이즐리 에코백 에스닉 가방 호보백 B16257796', 'HAY Hay Cotton Bag Stripe HAY 에코백', '아페쎄 남성 로르 로고 데님 인디고 에코백', '여성 니트 라탄 그물가방 쇼퍼백 여름 에코백', '메르시 라탄 린넨 에코백', '뉴즐 핸디 데일리 에코백', '에리키스 블루 페이즐리 에코백 반다나에코백', '로키 LOQI 에코백 스마일', '에리키스 블루 번들 레오파드 에코백 호피에코백', '쥬에 레오파드 에코백 크림 4 13예약배송', '남자 에코백 숄더백 쇼퍼백 크로스 무지 데일리 텀블러백 대학생가방', '쥬에 레오파드 에코백 그린', '모노바이츠 봄 여름 니트 그물 에코백']\n"
     ]
    }
   ],
   "source": [
    "print(name_text)"
   ]
  },
  {
   "cell_type": "code",
   "execution_count": 20,
   "id": "5a635403",
   "metadata": {},
   "outputs": [
    {
     "name": "stdout",
     "output_type": "stream",
     "text": [
      "46\n",
      "46\n"
     ]
    }
   ],
   "source": [
    "print(len(name_text))\n",
    "print(len(price_int))"
   ]
  },
  {
   "cell_type": "code",
   "execution_count": 21,
   "id": "c3ca0295",
   "metadata": {},
   "outputs": [],
   "source": [
    "item_df = pd.DataFrame({'Item':name_text, 'Price':price_int})"
   ]
  },
  {
   "cell_type": "code",
   "execution_count": 22,
   "id": "35bc81de",
   "metadata": {},
   "outputs": [
    {
     "data": {
      "text/html": [
       "<div>\n",
       "<style scoped>\n",
       "    .dataframe tbody tr th:only-of-type {\n",
       "        vertical-align: middle;\n",
       "    }\n",
       "\n",
       "    .dataframe tbody tr th {\n",
       "        vertical-align: top;\n",
       "    }\n",
       "\n",
       "    .dataframe thead th {\n",
       "        text-align: right;\n",
       "    }\n",
       "</style>\n",
       "<table border=\"1\" class=\"dataframe\">\n",
       "  <thead>\n",
       "    <tr style=\"text-align: right;\">\n",
       "      <th></th>\n",
       "      <th>Item</th>\n",
       "      <th>Price</th>\n",
       "    </tr>\n",
       "  </thead>\n",
       "  <tbody>\n",
       "    <tr>\n",
       "      <th>0</th>\n",
       "      <td>남자 에코백 빅사이즈 두꺼운 재질 심플 디자인</td>\n",
       "      <td>14900</td>\n",
       "    </tr>\n",
       "    <tr>\n",
       "      <th>1</th>\n",
       "      <td>크렌쿨 남여공용 빅에코백 숄더백 데일리 캔버스백 토트백</td>\n",
       "      <td>39000</td>\n",
       "    </tr>\n",
       "    <tr>\n",
       "      <th>2</th>\n",
       "      <td>미아볼사 YAMMY CAT 자수 대학생/여성/남성 크로스 에코백 숄더 캔버스백</td>\n",
       "      <td>15000</td>\n",
       "    </tr>\n",
       "    <tr>\n",
       "      <th>3</th>\n",
       "      <td>남녀공용 helper 에코백 BYLE0001</td>\n",
       "      <td>11000</td>\n",
       "    </tr>\n",
       "    <tr>\n",
       "      <th>4</th>\n",
       "      <td>남녀공용 사랑 에코백 BYLE0002</td>\n",
       "      <td>11000</td>\n",
       "    </tr>\n",
       "    <tr>\n",
       "      <th>5</th>\n",
       "      <td>캉골 에코 프렌들리백 플러스 0037 에코백 크로스백</td>\n",
       "      <td>25000</td>\n",
       "    </tr>\n",
       "    <tr>\n",
       "      <th>6</th>\n",
       "      <td>슬링키나인 무지에코백 남자 여자 지퍼 크로스 캔버스 대학생 가방</td>\n",
       "      <td>18900</td>\n",
       "    </tr>\n",
       "    <tr>\n",
       "      <th>7</th>\n",
       "      <td>캉골 에코 프렌들리백 지피 미디움 0036 가방 에코백</td>\n",
       "      <td>35200</td>\n",
       "    </tr>\n",
       "    <tr>\n",
       "      <th>8</th>\n",
       "      <td>플리츠 미니 패턴 에코백 도시락 손가방 토트백 주름</td>\n",
       "      <td>1990</td>\n",
       "    </tr>\n",
       "    <tr>\n",
       "      <th>9</th>\n",
       "      <td>미니 에코백 캔버스백 토트백 손목 피크닉 가방</td>\n",
       "      <td>3200</td>\n",
       "    </tr>\n",
       "    <tr>\n",
       "      <th>10</th>\n",
       "      <td>[V&amp;A] 디올 뮤지엄에코백 블랙 그레이 / 박물관 쇼퍼백</td>\n",
       "      <td>56000</td>\n",
       "    </tr>\n",
       "    <tr>\n",
       "      <th>11</th>\n",
       "      <td>빌리버스 남자에코백 남자숄더백 남자캔버스백 BCB208 P081124443</td>\n",
       "      <td>13500</td>\n",
       "    </tr>\n",
       "    <tr>\n",
       "      <th>12</th>\n",
       "      <td>무지 미니 에코백 비비드컬러</td>\n",
       "      <td>1280</td>\n",
       "    </tr>\n",
       "    <tr>\n",
       "      <th>13</th>\n",
       "      <td>캉골 제리 쇼퍼백 0039 가방 에코백 크로스백</td>\n",
       "      <td>38330</td>\n",
       "    </tr>\n",
       "    <tr>\n",
       "      <th>14</th>\n",
       "      <td>아페쎄 다니엘라 에코백 20FW COCSX IAI M61446</td>\n",
       "      <td>68250</td>\n",
       "    </tr>\n",
       "    <tr>\n",
       "      <th>15</th>\n",
       "      <td>DALRIM 캔버스 에코백 여성 가방 가벼운 숄더백 여자</td>\n",
       "      <td>18800</td>\n",
       "    </tr>\n",
       "    <tr>\n",
       "      <th>16</th>\n",
       "      <td>레프트필드 국산 지퍼수납 심플에코백 4컬러</td>\n",
       "      <td>13500</td>\n",
       "    </tr>\n",
       "    <tr>\n",
       "      <th>17</th>\n",
       "      <td>아페쎄 A.P.C TOTE 데님 에코백 BAG M61445</td>\n",
       "      <td>41460</td>\n",
       "    </tr>\n",
       "    <tr>\n",
       "      <th>18</th>\n",
       "      <td>페이즐리 이미스 에코백 반다나 튼튼한 숄더백</td>\n",
       "      <td>14600</td>\n",
       "    </tr>\n",
       "    <tr>\n",
       "      <th>19</th>\n",
       "      <td>제이시크 페이즐리 핸드메이드 데일리 어깨 리본 에코백</td>\n",
       "      <td>17500</td>\n",
       "    </tr>\n",
       "    <tr>\n",
       "      <th>20</th>\n",
       "      <td>쥬에 레오파드 에코백 4 13예약배송</td>\n",
       "      <td>38880</td>\n",
       "    </tr>\n",
       "    <tr>\n",
       "      <th>21</th>\n",
       "      <td>귀염뽀짝 유니크 3컬러 미니 에코백 토트백 손가방</td>\n",
       "      <td>3200</td>\n",
       "    </tr>\n",
       "    <tr>\n",
       "      <th>22</th>\n",
       "      <td>드릴리스 투웨이 써클백 에코백 복조리가방 복조리백</td>\n",
       "      <td>41400</td>\n",
       "    </tr>\n",
       "    <tr>\n",
       "      <th>23</th>\n",
       "      <td>메종키츠네 22FW 팔레로얄 에코백 AU05100WW0008 P700</td>\n",
       "      <td>78090</td>\n",
       "    </tr>\n",
       "    <tr>\n",
       "      <th>24</th>\n",
       "      <td>구찌 코튼 에코백 라지 GUCCI ECRU LARGE</td>\n",
       "      <td>29070</td>\n",
       "    </tr>\n",
       "    <tr>\n",
       "      <th>25</th>\n",
       "      <td>22SS 메종키츠네 로고 에코백 GU05125WW0008 P199</td>\n",
       "      <td>79040</td>\n",
       "    </tr>\n",
       "    <tr>\n",
       "      <th>26</th>\n",
       "      <td>드릴리스 에코백 내추럴 에코백</td>\n",
       "      <td>24480</td>\n",
       "    </tr>\n",
       "    <tr>\n",
       "      <th>27</th>\n",
       "      <td>리솜 캔버스 코튼 가죽 콤비 지퍼 스퀘어 쇼퍼 토트 숄더 에코백</td>\n",
       "      <td>15900</td>\n",
       "    </tr>\n",
       "    <tr>\n",
       "      <th>28</th>\n",
       "      <td>캔버스 라벨 포켓 지퍼 크로스 에코백</td>\n",
       "      <td>13800</td>\n",
       "    </tr>\n",
       "    <tr>\n",
       "      <th>29</th>\n",
       "      <td>키플링 에코백 5컬러 KKAZZ01 KKBZZ01</td>\n",
       "      <td>39000</td>\n",
       "    </tr>\n",
       "    <tr>\n",
       "      <th>30</th>\n",
       "      <td>마카롱 에코백</td>\n",
       "      <td>16900</td>\n",
       "    </tr>\n",
       "    <tr>\n",
       "      <th>31</th>\n",
       "      <td>메종키츠네 20FW EC 남녀공용 폭스 헤드 에코백 EU05110WW0008</td>\n",
       "      <td>62500</td>\n",
       "    </tr>\n",
       "    <tr>\n",
       "      <th>32</th>\n",
       "      <td>양놀 대학생 무지 에코백</td>\n",
       "      <td>6900</td>\n",
       "    </tr>\n",
       "    <tr>\n",
       "      <th>33</th>\n",
       "      <td>반다나 백 연예인 페이즐리 이미스 페이즐리 에코백 에스닉 가방 호보백 B16257796</td>\n",
       "      <td>6150</td>\n",
       "    </tr>\n",
       "    <tr>\n",
       "      <th>34</th>\n",
       "      <td>HAY Hay Cotton Bag Stripe HAY 에코백</td>\n",
       "      <td>12000</td>\n",
       "    </tr>\n",
       "    <tr>\n",
       "      <th>35</th>\n",
       "      <td>아페쎄 남성 로르 로고 데님 인디고 에코백</td>\n",
       "      <td>65700</td>\n",
       "    </tr>\n",
       "    <tr>\n",
       "      <th>36</th>\n",
       "      <td>여성 니트 라탄 그물가방 쇼퍼백 여름 에코백</td>\n",
       "      <td>4900</td>\n",
       "    </tr>\n",
       "    <tr>\n",
       "      <th>37</th>\n",
       "      <td>메르시 라탄 린넨 에코백</td>\n",
       "      <td>4980</td>\n",
       "    </tr>\n",
       "    <tr>\n",
       "      <th>38</th>\n",
       "      <td>뉴즐 핸디 데일리 에코백</td>\n",
       "      <td>15000</td>\n",
       "    </tr>\n",
       "    <tr>\n",
       "      <th>39</th>\n",
       "      <td>에리키스 블루 페이즐리 에코백 반다나에코백</td>\n",
       "      <td>18900</td>\n",
       "    </tr>\n",
       "    <tr>\n",
       "      <th>40</th>\n",
       "      <td>로키 LOQI 에코백 스마일</td>\n",
       "      <td>7350</td>\n",
       "    </tr>\n",
       "    <tr>\n",
       "      <th>41</th>\n",
       "      <td>에리키스 블루 번들 레오파드 에코백 호피에코백</td>\n",
       "      <td>35700</td>\n",
       "    </tr>\n",
       "    <tr>\n",
       "      <th>42</th>\n",
       "      <td>쥬에 레오파드 에코백 크림 4 13예약배송</td>\n",
       "      <td>38880</td>\n",
       "    </tr>\n",
       "    <tr>\n",
       "      <th>43</th>\n",
       "      <td>남자 에코백 숄더백 쇼퍼백 크로스 무지 데일리 텀블러백 대학생가방</td>\n",
       "      <td>19800</td>\n",
       "    </tr>\n",
       "    <tr>\n",
       "      <th>44</th>\n",
       "      <td>쥬에 레오파드 에코백 그린</td>\n",
       "      <td>38880</td>\n",
       "    </tr>\n",
       "    <tr>\n",
       "      <th>45</th>\n",
       "      <td>모노바이츠 봄 여름 니트 그물 에코백</td>\n",
       "      <td>9100</td>\n",
       "    </tr>\n",
       "  </tbody>\n",
       "</table>\n",
       "</div>"
      ],
      "text/plain": [
       "                                                Item  Price\n",
       "0                          남자 에코백 빅사이즈 두꺼운 재질 심플 디자인  14900\n",
       "1                     크렌쿨 남여공용 빅에코백 숄더백 데일리 캔버스백 토트백  39000\n",
       "2        미아볼사 YAMMY CAT 자수 대학생/여성/남성 크로스 에코백 숄더 캔버스백  15000\n",
       "3                           남녀공용 helper 에코백 BYLE0001  11000\n",
       "4                               남녀공용 사랑 에코백 BYLE0002  11000\n",
       "5                      캉골 에코 프렌들리백 플러스 0037 에코백 크로스백  25000\n",
       "6                슬링키나인 무지에코백 남자 여자 지퍼 크로스 캔버스 대학생 가방  18900\n",
       "7                     캉골 에코 프렌들리백 지피 미디움 0036 가방 에코백  35200\n",
       "8                       플리츠 미니 패턴 에코백 도시락 손가방 토트백 주름   1990\n",
       "9                          미니 에코백 캔버스백 토트백 손목 피크닉 가방   3200\n",
       "10                  [V&A] 디올 뮤지엄에코백 블랙 그레이 / 박물관 쇼퍼백  56000\n",
       "11         빌리버스 남자에코백 남자숄더백 남자캔버스백 BCB208 P081124443  13500\n",
       "12                                   무지 미니 에코백 비비드컬러   1280\n",
       "13                        캉골 제리 쇼퍼백 0039 가방 에코백 크로스백  38330\n",
       "14                아페쎄 다니엘라 에코백 20FW COCSX IAI M61446  68250\n",
       "15                   DALRIM 캔버스 에코백 여성 가방 가벼운 숄더백 여자  18800\n",
       "16                           레프트필드 국산 지퍼수납 심플에코백 4컬러  13500\n",
       "17                  아페쎄 A.P.C TOTE 데님 에코백 BAG M61445  41460\n",
       "18                          페이즐리 이미스 에코백 반다나 튼튼한 숄더백  14600\n",
       "19                     제이시크 페이즐리 핸드메이드 데일리 어깨 리본 에코백  17500\n",
       "20                              쥬에 레오파드 에코백 4 13예약배송  38880\n",
       "21                       귀염뽀짝 유니크 3컬러 미니 에코백 토트백 손가방   3200\n",
       "22                       드릴리스 투웨이 써클백 에코백 복조리가방 복조리백  41400\n",
       "23            메종키츠네 22FW 팔레로얄 에코백 AU05100WW0008 P700  78090\n",
       "24                     구찌 코튼 에코백 라지 GUCCI ECRU LARGE  29070\n",
       "25              22SS 메종키츠네 로고 에코백 GU05125WW0008 P199  79040\n",
       "26                                  드릴리스 에코백 내추럴 에코백  24480\n",
       "27               리솜 캔버스 코튼 가죽 콤비 지퍼 스퀘어 쇼퍼 토트 숄더 에코백  15900\n",
       "28                              캔버스 라벨 포켓 지퍼 크로스 에코백  13800\n",
       "29                       키플링 에코백 5컬러 KKAZZ01 KKBZZ01  39000\n",
       "30                                           마카롱 에코백  16900\n",
       "31        메종키츠네 20FW EC 남녀공용 폭스 헤드 에코백 EU05110WW0008  62500\n",
       "32                                     양놀 대학생 무지 에코백   6900\n",
       "33  반다나 백 연예인 페이즐리 이미스 페이즐리 에코백 에스닉 가방 호보백 B16257796   6150\n",
       "34                 HAY Hay Cotton Bag Stripe HAY 에코백  12000\n",
       "35                           아페쎄 남성 로르 로고 데님 인디고 에코백  65700\n",
       "36                          여성 니트 라탄 그물가방 쇼퍼백 여름 에코백   4900\n",
       "37                                     메르시 라탄 린넨 에코백   4980\n",
       "38                                     뉴즐 핸디 데일리 에코백  15000\n",
       "39                           에리키스 블루 페이즐리 에코백 반다나에코백  18900\n",
       "40                                   로키 LOQI 에코백 스마일   7350\n",
       "41                         에리키스 블루 번들 레오파드 에코백 호피에코백  35700\n",
       "42                           쥬에 레오파드 에코백 크림 4 13예약배송  38880\n",
       "43              남자 에코백 숄더백 쇼퍼백 크로스 무지 데일리 텀블러백 대학생가방  19800\n",
       "44                                    쥬에 레오파드 에코백 그린  38880\n",
       "45                              모노바이츠 봄 여름 니트 그물 에코백   9100"
      ]
     },
     "execution_count": 22,
     "metadata": {},
     "output_type": "execute_result"
    }
   ],
   "source": [
    "item_df"
   ]
  },
  {
   "cell_type": "code",
   "execution_count": 23,
   "id": "1d4ce6d0",
   "metadata": {},
   "outputs": [
    {
     "data": {
      "text/plain": [
       "pandas.core.frame.DataFrame"
      ]
     },
     "execution_count": 23,
     "metadata": {},
     "output_type": "execute_result"
    }
   ],
   "source": [
    "# 데이터프레임 저장 확인\n",
    "type(item_df)"
   ]
  },
  {
   "cell_type": "code",
   "execution_count": 24,
   "id": "1a878e89",
   "metadata": {},
   "outputs": [],
   "source": [
    "# 파일 저장하기\n",
    "item_df.to_csv(\"Naver_Trend_Analysis.csv\", encoding='utf-8-sig')"
   ]
  },
  {
   "cell_type": "code",
   "execution_count": 25,
   "id": "d8470cf3",
   "metadata": {},
   "outputs": [
    {
     "data": {
      "text/plain": [
       "'C:\\\\Users\\\\andam\\\\Desktop\\\\프로젝트\\\\Naver_Trend_Analysis'"
      ]
     },
     "execution_count": 25,
     "metadata": {},
     "output_type": "execute_result"
    }
   ],
   "source": [
    "pwd"
   ]
  },
  {
   "cell_type": "markdown",
   "id": "eaa89d95",
   "metadata": {},
   "source": [
    "## 데이터 시각화"
   ]
  },
  {
   "cell_type": "code",
   "execution_count": 26,
   "id": "1cfbc4aa",
   "metadata": {},
   "outputs": [],
   "source": [
    "# 필요한 라이브러리 임포트\n",
    "import pandas as pd\n",
    "import numpy as np\n",
    "\n",
    "import matplotlib.pyplot as plt  # 시각화 라이브러리\n",
    "import seaborn as sns            # 시각화 라이브러리\n",
    "# import plotly      # interactive visualization library\n",
    "\n",
    "from tqdm import tqdm_notebook   # for문 진행상황을 게이지로 알려줌\n",
    "\n",
    "# 파이썬 warning 무시\n",
    "import warnings\n",
    "warnings.filterwarnings(action='ignore')"
   ]
  },
  {
   "cell_type": "code",
   "execution_count": 27,
   "id": "70ff154f",
   "metadata": {
    "scrolled": true
   },
   "outputs": [
    {
     "data": {
      "text/html": [
       "<div>\n",
       "<style scoped>\n",
       "    .dataframe tbody tr th:only-of-type {\n",
       "        vertical-align: middle;\n",
       "    }\n",
       "\n",
       "    .dataframe tbody tr th {\n",
       "        vertical-align: top;\n",
       "    }\n",
       "\n",
       "    .dataframe thead th {\n",
       "        text-align: right;\n",
       "    }\n",
       "</style>\n",
       "<table border=\"1\" class=\"dataframe\">\n",
       "  <thead>\n",
       "    <tr style=\"text-align: right;\">\n",
       "      <th></th>\n",
       "      <th>Item</th>\n",
       "      <th>Price</th>\n",
       "    </tr>\n",
       "  </thead>\n",
       "  <tbody>\n",
       "    <tr>\n",
       "      <th>25</th>\n",
       "      <td>22SS 메종키츠네 로고 에코백 GU05125WW0008 P199</td>\n",
       "      <td>79040</td>\n",
       "    </tr>\n",
       "    <tr>\n",
       "      <th>23</th>\n",
       "      <td>메종키츠네 22FW 팔레로얄 에코백 AU05100WW0008 P700</td>\n",
       "      <td>78090</td>\n",
       "    </tr>\n",
       "    <tr>\n",
       "      <th>14</th>\n",
       "      <td>아페쎄 다니엘라 에코백 20FW COCSX IAI M61446</td>\n",
       "      <td>68250</td>\n",
       "    </tr>\n",
       "    <tr>\n",
       "      <th>35</th>\n",
       "      <td>아페쎄 남성 로르 로고 데님 인디고 에코백</td>\n",
       "      <td>65700</td>\n",
       "    </tr>\n",
       "    <tr>\n",
       "      <th>31</th>\n",
       "      <td>메종키츠네 20FW EC 남녀공용 폭스 헤드 에코백 EU05110WW0008</td>\n",
       "      <td>62500</td>\n",
       "    </tr>\n",
       "    <tr>\n",
       "      <th>10</th>\n",
       "      <td>[V&amp;A] 디올 뮤지엄에코백 블랙 그레이 / 박물관 쇼퍼백</td>\n",
       "      <td>56000</td>\n",
       "    </tr>\n",
       "    <tr>\n",
       "      <th>17</th>\n",
       "      <td>아페쎄 A.P.C TOTE 데님 에코백 BAG M61445</td>\n",
       "      <td>41460</td>\n",
       "    </tr>\n",
       "    <tr>\n",
       "      <th>22</th>\n",
       "      <td>드릴리스 투웨이 써클백 에코백 복조리가방 복조리백</td>\n",
       "      <td>41400</td>\n",
       "    </tr>\n",
       "    <tr>\n",
       "      <th>1</th>\n",
       "      <td>크렌쿨 남여공용 빅에코백 숄더백 데일리 캔버스백 토트백</td>\n",
       "      <td>39000</td>\n",
       "    </tr>\n",
       "    <tr>\n",
       "      <th>29</th>\n",
       "      <td>키플링 에코백 5컬러 KKAZZ01 KKBZZ01</td>\n",
       "      <td>39000</td>\n",
       "    </tr>\n",
       "    <tr>\n",
       "      <th>20</th>\n",
       "      <td>쥬에 레오파드 에코백 4 13예약배송</td>\n",
       "      <td>38880</td>\n",
       "    </tr>\n",
       "    <tr>\n",
       "      <th>44</th>\n",
       "      <td>쥬에 레오파드 에코백 그린</td>\n",
       "      <td>38880</td>\n",
       "    </tr>\n",
       "    <tr>\n",
       "      <th>42</th>\n",
       "      <td>쥬에 레오파드 에코백 크림 4 13예약배송</td>\n",
       "      <td>38880</td>\n",
       "    </tr>\n",
       "    <tr>\n",
       "      <th>13</th>\n",
       "      <td>캉골 제리 쇼퍼백 0039 가방 에코백 크로스백</td>\n",
       "      <td>38330</td>\n",
       "    </tr>\n",
       "    <tr>\n",
       "      <th>41</th>\n",
       "      <td>에리키스 블루 번들 레오파드 에코백 호피에코백</td>\n",
       "      <td>35700</td>\n",
       "    </tr>\n",
       "    <tr>\n",
       "      <th>7</th>\n",
       "      <td>캉골 에코 프렌들리백 지피 미디움 0036 가방 에코백</td>\n",
       "      <td>35200</td>\n",
       "    </tr>\n",
       "    <tr>\n",
       "      <th>24</th>\n",
       "      <td>구찌 코튼 에코백 라지 GUCCI ECRU LARGE</td>\n",
       "      <td>29070</td>\n",
       "    </tr>\n",
       "    <tr>\n",
       "      <th>5</th>\n",
       "      <td>캉골 에코 프렌들리백 플러스 0037 에코백 크로스백</td>\n",
       "      <td>25000</td>\n",
       "    </tr>\n",
       "    <tr>\n",
       "      <th>26</th>\n",
       "      <td>드릴리스 에코백 내추럴 에코백</td>\n",
       "      <td>24480</td>\n",
       "    </tr>\n",
       "    <tr>\n",
       "      <th>43</th>\n",
       "      <td>남자 에코백 숄더백 쇼퍼백 크로스 무지 데일리 텀블러백 대학생가방</td>\n",
       "      <td>19800</td>\n",
       "    </tr>\n",
       "    <tr>\n",
       "      <th>39</th>\n",
       "      <td>에리키스 블루 페이즐리 에코백 반다나에코백</td>\n",
       "      <td>18900</td>\n",
       "    </tr>\n",
       "    <tr>\n",
       "      <th>6</th>\n",
       "      <td>슬링키나인 무지에코백 남자 여자 지퍼 크로스 캔버스 대학생 가방</td>\n",
       "      <td>18900</td>\n",
       "    </tr>\n",
       "    <tr>\n",
       "      <th>15</th>\n",
       "      <td>DALRIM 캔버스 에코백 여성 가방 가벼운 숄더백 여자</td>\n",
       "      <td>18800</td>\n",
       "    </tr>\n",
       "    <tr>\n",
       "      <th>19</th>\n",
       "      <td>제이시크 페이즐리 핸드메이드 데일리 어깨 리본 에코백</td>\n",
       "      <td>17500</td>\n",
       "    </tr>\n",
       "    <tr>\n",
       "      <th>30</th>\n",
       "      <td>마카롱 에코백</td>\n",
       "      <td>16900</td>\n",
       "    </tr>\n",
       "    <tr>\n",
       "      <th>27</th>\n",
       "      <td>리솜 캔버스 코튼 가죽 콤비 지퍼 스퀘어 쇼퍼 토트 숄더 에코백</td>\n",
       "      <td>15900</td>\n",
       "    </tr>\n",
       "    <tr>\n",
       "      <th>2</th>\n",
       "      <td>미아볼사 YAMMY CAT 자수 대학생/여성/남성 크로스 에코백 숄더 캔버스백</td>\n",
       "      <td>15000</td>\n",
       "    </tr>\n",
       "    <tr>\n",
       "      <th>38</th>\n",
       "      <td>뉴즐 핸디 데일리 에코백</td>\n",
       "      <td>15000</td>\n",
       "    </tr>\n",
       "    <tr>\n",
       "      <th>0</th>\n",
       "      <td>남자 에코백 빅사이즈 두꺼운 재질 심플 디자인</td>\n",
       "      <td>14900</td>\n",
       "    </tr>\n",
       "    <tr>\n",
       "      <th>18</th>\n",
       "      <td>페이즐리 이미스 에코백 반다나 튼튼한 숄더백</td>\n",
       "      <td>14600</td>\n",
       "    </tr>\n",
       "    <tr>\n",
       "      <th>28</th>\n",
       "      <td>캔버스 라벨 포켓 지퍼 크로스 에코백</td>\n",
       "      <td>13800</td>\n",
       "    </tr>\n",
       "    <tr>\n",
       "      <th>11</th>\n",
       "      <td>빌리버스 남자에코백 남자숄더백 남자캔버스백 BCB208 P081124443</td>\n",
       "      <td>13500</td>\n",
       "    </tr>\n",
       "    <tr>\n",
       "      <th>16</th>\n",
       "      <td>레프트필드 국산 지퍼수납 심플에코백 4컬러</td>\n",
       "      <td>13500</td>\n",
       "    </tr>\n",
       "    <tr>\n",
       "      <th>34</th>\n",
       "      <td>HAY Hay Cotton Bag Stripe HAY 에코백</td>\n",
       "      <td>12000</td>\n",
       "    </tr>\n",
       "    <tr>\n",
       "      <th>3</th>\n",
       "      <td>남녀공용 helper 에코백 BYLE0001</td>\n",
       "      <td>11000</td>\n",
       "    </tr>\n",
       "    <tr>\n",
       "      <th>4</th>\n",
       "      <td>남녀공용 사랑 에코백 BYLE0002</td>\n",
       "      <td>11000</td>\n",
       "    </tr>\n",
       "    <tr>\n",
       "      <th>45</th>\n",
       "      <td>모노바이츠 봄 여름 니트 그물 에코백</td>\n",
       "      <td>9100</td>\n",
       "    </tr>\n",
       "    <tr>\n",
       "      <th>40</th>\n",
       "      <td>로키 LOQI 에코백 스마일</td>\n",
       "      <td>7350</td>\n",
       "    </tr>\n",
       "    <tr>\n",
       "      <th>32</th>\n",
       "      <td>양놀 대학생 무지 에코백</td>\n",
       "      <td>6900</td>\n",
       "    </tr>\n",
       "    <tr>\n",
       "      <th>33</th>\n",
       "      <td>반다나 백 연예인 페이즐리 이미스 페이즐리 에코백 에스닉 가방 호보백 B16257796</td>\n",
       "      <td>6150</td>\n",
       "    </tr>\n",
       "    <tr>\n",
       "      <th>37</th>\n",
       "      <td>메르시 라탄 린넨 에코백</td>\n",
       "      <td>4980</td>\n",
       "    </tr>\n",
       "    <tr>\n",
       "      <th>36</th>\n",
       "      <td>여성 니트 라탄 그물가방 쇼퍼백 여름 에코백</td>\n",
       "      <td>4900</td>\n",
       "    </tr>\n",
       "    <tr>\n",
       "      <th>21</th>\n",
       "      <td>귀염뽀짝 유니크 3컬러 미니 에코백 토트백 손가방</td>\n",
       "      <td>3200</td>\n",
       "    </tr>\n",
       "    <tr>\n",
       "      <th>9</th>\n",
       "      <td>미니 에코백 캔버스백 토트백 손목 피크닉 가방</td>\n",
       "      <td>3200</td>\n",
       "    </tr>\n",
       "    <tr>\n",
       "      <th>8</th>\n",
       "      <td>플리츠 미니 패턴 에코백 도시락 손가방 토트백 주름</td>\n",
       "      <td>1990</td>\n",
       "    </tr>\n",
       "    <tr>\n",
       "      <th>12</th>\n",
       "      <td>무지 미니 에코백 비비드컬러</td>\n",
       "      <td>1280</td>\n",
       "    </tr>\n",
       "  </tbody>\n",
       "</table>\n",
       "</div>"
      ],
      "text/plain": [
       "                                                Item  Price\n",
       "25              22SS 메종키츠네 로고 에코백 GU05125WW0008 P199  79040\n",
       "23            메종키츠네 22FW 팔레로얄 에코백 AU05100WW0008 P700  78090\n",
       "14                아페쎄 다니엘라 에코백 20FW COCSX IAI M61446  68250\n",
       "35                           아페쎄 남성 로르 로고 데님 인디고 에코백  65700\n",
       "31        메종키츠네 20FW EC 남녀공용 폭스 헤드 에코백 EU05110WW0008  62500\n",
       "10                  [V&A] 디올 뮤지엄에코백 블랙 그레이 / 박물관 쇼퍼백  56000\n",
       "17                  아페쎄 A.P.C TOTE 데님 에코백 BAG M61445  41460\n",
       "22                       드릴리스 투웨이 써클백 에코백 복조리가방 복조리백  41400\n",
       "1                     크렌쿨 남여공용 빅에코백 숄더백 데일리 캔버스백 토트백  39000\n",
       "29                       키플링 에코백 5컬러 KKAZZ01 KKBZZ01  39000\n",
       "20                              쥬에 레오파드 에코백 4 13예약배송  38880\n",
       "44                                    쥬에 레오파드 에코백 그린  38880\n",
       "42                           쥬에 레오파드 에코백 크림 4 13예약배송  38880\n",
       "13                        캉골 제리 쇼퍼백 0039 가방 에코백 크로스백  38330\n",
       "41                         에리키스 블루 번들 레오파드 에코백 호피에코백  35700\n",
       "7                     캉골 에코 프렌들리백 지피 미디움 0036 가방 에코백  35200\n",
       "24                     구찌 코튼 에코백 라지 GUCCI ECRU LARGE  29070\n",
       "5                      캉골 에코 프렌들리백 플러스 0037 에코백 크로스백  25000\n",
       "26                                  드릴리스 에코백 내추럴 에코백  24480\n",
       "43              남자 에코백 숄더백 쇼퍼백 크로스 무지 데일리 텀블러백 대학생가방  19800\n",
       "39                           에리키스 블루 페이즐리 에코백 반다나에코백  18900\n",
       "6                슬링키나인 무지에코백 남자 여자 지퍼 크로스 캔버스 대학생 가방  18900\n",
       "15                   DALRIM 캔버스 에코백 여성 가방 가벼운 숄더백 여자  18800\n",
       "19                     제이시크 페이즐리 핸드메이드 데일리 어깨 리본 에코백  17500\n",
       "30                                           마카롱 에코백  16900\n",
       "27               리솜 캔버스 코튼 가죽 콤비 지퍼 스퀘어 쇼퍼 토트 숄더 에코백  15900\n",
       "2        미아볼사 YAMMY CAT 자수 대학생/여성/남성 크로스 에코백 숄더 캔버스백  15000\n",
       "38                                     뉴즐 핸디 데일리 에코백  15000\n",
       "0                          남자 에코백 빅사이즈 두꺼운 재질 심플 디자인  14900\n",
       "18                          페이즐리 이미스 에코백 반다나 튼튼한 숄더백  14600\n",
       "28                              캔버스 라벨 포켓 지퍼 크로스 에코백  13800\n",
       "11         빌리버스 남자에코백 남자숄더백 남자캔버스백 BCB208 P081124443  13500\n",
       "16                           레프트필드 국산 지퍼수납 심플에코백 4컬러  13500\n",
       "34                 HAY Hay Cotton Bag Stripe HAY 에코백  12000\n",
       "3                           남녀공용 helper 에코백 BYLE0001  11000\n",
       "4                               남녀공용 사랑 에코백 BYLE0002  11000\n",
       "45                              모노바이츠 봄 여름 니트 그물 에코백   9100\n",
       "40                                   로키 LOQI 에코백 스마일   7350\n",
       "32                                     양놀 대학생 무지 에코백   6900\n",
       "33  반다나 백 연예인 페이즐리 이미스 페이즐리 에코백 에스닉 가방 호보백 B16257796   6150\n",
       "37                                     메르시 라탄 린넨 에코백   4980\n",
       "36                          여성 니트 라탄 그물가방 쇼퍼백 여름 에코백   4900\n",
       "21                       귀염뽀짝 유니크 3컬러 미니 에코백 토트백 손가방   3200\n",
       "9                          미니 에코백 캔버스백 토트백 손목 피크닉 가방   3200\n",
       "8                       플리츠 미니 패턴 에코백 도시락 손가방 토트백 주름   1990\n",
       "12                                   무지 미니 에코백 비비드컬러   1280"
      ]
     },
     "execution_count": 27,
     "metadata": {},
     "output_type": "execute_result"
    }
   ],
   "source": [
    "item_df.sort_values(by='Price', axis=0, ascending=False, inplace=True)\n",
    "item_df"
   ]
  },
  {
   "cell_type": "code",
   "execution_count": 28,
   "id": "d28da887",
   "metadata": {},
   "outputs": [
    {
     "data": {
      "image/png": "[encoded data removed]",
      "text/plain": [
       "<Figure size 1440x720 with 1 Axes>"
      ]
     },
     "metadata": {
      "needs_background": "light"
     },
     "output_type": "display_data"
    }
   ],
   "source": [
    "# figure size 지정\n",
    "plt.figure(figsize = (20, 10))\n",
    "\n",
    "# displot 함수로 분포 그리기\n",
    "item_vi = sns.distplot(item_df.Price, rug=True, kde=True)\n",
    "\n",
    "# 제목, x라벨 ,y라벨 지정\n",
    "item_vi.set_title('Naver Trend', fontsize=18)\n",
    "item_vi.set_xlabel('Price', fontdict={'size':16})\n",
    "item_vi.set_ylabel('Distibution Rate', fontdict={'size':16})\n",
    "\n",
    "plt.show()"
   ]
  },
  {
   "cell_type": "code",
   "execution_count": null,
   "id": "8fca203e",
   "metadata": {},
   "outputs": [],
   "source": []
  },
  {
   "cell_type": "code",
   "execution_count": null,
   "id": "b3a2f700",
   "metadata": {},
   "outputs": [],
   "source": []
  }
 ],
 "metadata": {
  "kernelspec": {
   "display_name": "Python 3 (ipykernel)",
   "language": "python",
   "name": "python3"
  },
  "language_info": {
   "codemirror_mode": {
    "name": "ipython",
    "version": 3
   },
   "file_extension": ".py",
   "mimetype": "text/x-python",
   "name": "python",
   "nbconvert_exporter": "python",
   "pygments_lexer": "ipython3",
   "version": "3.9.12"
  },
  "toc": {
   "base_numbering": 1,
   "nav_menu": {},
   "number_sections": true,
   "sideBar": true,
   "skip_h1_title": false,
   "title_cell": "Table of Contents",
   "title_sidebar": "Contents",
   "toc_cell": false,
   "toc_position": {},
   "toc_section_display": true,
   "toc_window_display": false
  }
 },
 "nbformat": 4,
 "nbformat_minor": 5
}
