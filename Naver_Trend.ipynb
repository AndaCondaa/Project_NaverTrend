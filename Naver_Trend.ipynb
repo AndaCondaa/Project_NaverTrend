{
 "cells": [
  {
   "cell_type": "markdown",
   "id": "151fa8a3",
   "metadata": {},
   "source": [
    " 오퍼상이 어떤 새로운 물건을 계약하고자 할 때, 어떤 제품이 시장에서 인기가 있고 가격대가 어느 정도인지를 수집해야 하는데,\n",
    "그 일을 자동으로 수행하고자 이 크롤러를 제작하게 되었습니다."
   ]
  },
  {
   "cell_type": "code",
   "execution_count": 1,
   "id": "a65a9062",
   "metadata": {
    "collapsed": true
   },
   "outputs": [
    {
     "name": "stdout",
     "output_type": "stream",
     "text": [
      "Requirement already satisfied: chromedriver_autoinstaller in c:\\users\\andam\\anaconda3\\lib\\site-packages (0.3.1)\n"
     ]
    }
   ],
   "source": [
    "!pip install chromedriver_autoinstaller"
   ]
  },
  {
   "cell_type": "code",
   "execution_count": 2,
   "id": "76e24128",
   "metadata": {
    "collapsed": true
   },
   "outputs": [
    {
     "name": "stdout",
     "output_type": "stream",
     "text": [
      "Requirement already satisfied: selenium in c:\\users\\andam\\anaconda3\\lib\\site-packages (4.2.0)\n",
      "Requirement already satisfied: trio-websocket~=0.9 in c:\\users\\andam\\anaconda3\\lib\\site-packages (from selenium) (0.9.2)\n",
      "Requirement already satisfied: trio~=0.17 in c:\\users\\andam\\anaconda3\\lib\\site-packages (from selenium) (0.21.0)\n",
      "Requirement already satisfied: urllib3[secure,socks]~=1.26 in c:\\users\\andam\\anaconda3\\lib\\site-packages (from selenium) (1.26.9)\n",
      "Requirement already satisfied: attrs>=19.2.0 in c:\\users\\andam\\anaconda3\\lib\\site-packages (from trio~=0.17->selenium) (21.4.0)\n",
      "Requirement already satisfied: async-generator>=1.9 in c:\\users\\andam\\anaconda3\\lib\\site-packages (from trio~=0.17->selenium) (1.10)\n",
      "Requirement already satisfied: sniffio in c:\\users\\andam\\anaconda3\\lib\\site-packages (from trio~=0.17->selenium) (1.2.0)\n",
      "Requirement already satisfied: sortedcontainers in c:\\users\\andam\\anaconda3\\lib\\site-packages (from trio~=0.17->selenium) (2.4.0)\n",
      "Requirement already satisfied: cffi>=1.14 in c:\\users\\andam\\anaconda3\\lib\\site-packages (from trio~=0.17->selenium) (1.15.0)\n",
      "Requirement already satisfied: idna in c:\\users\\andam\\anaconda3\\lib\\site-packages (from trio~=0.17->selenium) (3.3)\n",
      "Requirement already satisfied: outcome in c:\\users\\andam\\anaconda3\\lib\\site-packages (from trio~=0.17->selenium) (1.2.0)\n",
      "Requirement already satisfied: pycparser in c:\\users\\andam\\anaconda3\\lib\\site-packages (from cffi>=1.14->trio~=0.17->selenium) (2.21)\n",
      "Requirement already satisfied: wsproto>=0.14 in c:\\users\\andam\\anaconda3\\lib\\site-packages (from trio-websocket~=0.9->selenium) (1.1.0)\n",
      "Requirement already satisfied: PySocks!=1.5.7,<2.0,>=1.5.6 in c:\\users\\andam\\anaconda3\\lib\\site-packages (from urllib3[secure,socks]~=1.26->selenium) (1.7.1)\n",
      "Requirement already satisfied: cryptography>=1.3.4 in c:\\users\\andam\\anaconda3\\lib\\site-packages (from urllib3[secure,socks]~=1.26->selenium) (3.4.8)\n",
      "Requirement already satisfied: pyOpenSSL>=0.14 in c:\\users\\andam\\anaconda3\\lib\\site-packages (from urllib3[secure,socks]~=1.26->selenium) (21.0.0)\n",
      "Requirement already satisfied: certifi in c:\\users\\andam\\anaconda3\\lib\\site-packages (from urllib3[secure,socks]~=1.26->selenium) (2021.10.8)\n",
      "Requirement already satisfied: six>=1.5.2 in c:\\users\\andam\\anaconda3\\lib\\site-packages (from pyOpenSSL>=0.14->urllib3[secure,socks]~=1.26->selenium) (1.16.0)\n",
      "Requirement already satisfied: h11<1,>=0.9.0 in c:\\users\\andam\\anaconda3\\lib\\site-packages (from wsproto>=0.14->trio-websocket~=0.9->selenium) (0.13.0)\n"
     ]
    }
   ],
   "source": [
    "!pip install selenium"
   ]
  },
  {
   "cell_type": "code",
   "execution_count": 15,
   "id": "6b958ad0",
   "metadata": {},
   "outputs": [],
   "source": [
    "import sys # 시스템\n",
    "import os  # 시스템\n",
    "\n",
    "import pandas as pd  # 판다스 : 데이터분석 라이브러리\n",
    "import numpy as np   # 넘파이 : 숫자, 행렬 데이터 라이브러리\n",
    "\n",
    "from selenium import webdriver   # 웹 브라우저 자동화\n",
    "from selenium.webdriver.common.keys import Keys\n",
    "import chromedriver_autoinstaller\n",
    "\n",
    "import time    # 서버와 통신할 때 중간중간 시간 지연. 보통은 1초\n",
    "from tqdm import tqdm_notebook   # for문 돌릴 때 진행상황을 %게이지로 알려준다.\n",
    "\n",
    "# 워닝 무시\n",
    "import warnings\n",
    "warnings.filterwarnings('ignore')"
   ]
  },
  {
   "cell_type": "code",
   "execution_count": 16,
   "id": "4d2865e1",
   "metadata": {},
   "outputs": [
    {
     "name": "stdout",
     "output_type": "stream",
     "text": [
      "Python 3.9.12\n"
     ]
    }
   ],
   "source": [
    "# python 버전 확인\n",
    "!python --version"
   ]
  },
  {
   "cell_type": "code",
   "execution_count": 17,
   "id": "d7c45909",
   "metadata": {},
   "outputs": [
    {
     "data": {
      "text/plain": [
       "'1.4.2'"
      ]
     },
     "execution_count": 17,
     "metadata": {},
     "output_type": "execute_result"
    }
   ],
   "source": [
    "# 판다스 버전 확인\n",
    "pd.__version__"
   ]
  },
  {
   "cell_type": "code",
   "execution_count": 18,
   "id": "f0105a7c",
   "metadata": {
    "scrolled": true
   },
   "outputs": [
    {
     "data": {
      "text/plain": [
       "'C:\\\\Users\\\\andam\\\\Desktop\\\\Code\\\\Project_1'"
      ]
     },
     "execution_count": 18,
     "metadata": {},
     "output_type": "execute_result"
    }
   ],
   "source": [
    "pwd"
   ]
  },
  {
   "cell_type": "markdown",
   "id": "7525484f",
   "metadata": {},
   "source": [
    "## 네이버트렌드 확인"
   ]
  },
  {
   "cell_type": "code",
   "execution_count": 19,
   "id": "cb4e81c3",
   "metadata": {},
   "outputs": [],
   "source": [
    "# 크롬창 띄우기\n",
    "import chromedriver_autoinstaller\n",
    "chrome_path = chromedriver_autoinstaller.install()\n",
    "driver = webdriver.Chrome(chrome_path)\n",
    "\n",
    "driver.get(\"https://datalab.naver.com/\")\n",
    "time.sleep(1)"
   ]
  },
  {
   "cell_type": "code",
   "execution_count": 20,
   "id": "e4187360",
   "metadata": {},
   "outputs": [],
   "source": [
    "#분야 리스트 클릭\n",
    "Area_list = driver.find_element_by_css_selector(\".select_btn\")\n",
    "Area_list.click()\n",
    "time.sleep(1)"
   ]
  },
  {
   "cell_type": "code",
   "execution_count": 21,
   "id": "c3eca7a2",
   "metadata": {},
   "outputs": [
    {
     "name": "stdout",
     "output_type": "stream",
     "text": [
      "패션의류\n",
      "패션잡화\n",
      "화장품/미용\n",
      "디지털/가전\n",
      "가구/인테리어\n",
      "출산/육아\n",
      "식품\n",
      "스포츠/레저\n",
      "생활/건강\n",
      "여가/생활편의\n",
      "면세점\n",
      "도서\n"
     ]
    }
   ],
   "source": [
    "# #분야 리스트 확인\n",
    "Categori_li = driver.find_elements_by_css_selector('#content > div.spot.section_keyword > div.section.main_tab_opt > div.select.depth._dropdown > ul')\n",
    "\n",
    "for i in range(0, len(Categori_li)):\n",
    "    print(Categori_li[i].text)\n",
    "    \n"
   ]
  },
  {
   "cell_type": "code",
   "execution_count": 22,
   "id": "0e5566cd",
   "metadata": {
    "scrolled": true
   },
   "outputs": [
    {
     "name": "stdout",
     "output_type": "stream",
     "text": [
      "검색할 카테고리를 입력하세요: 패션잡화\n"
     ]
    }
   ],
   "source": [
    "search = input(\"검색할 카테고리를 입력하세요: \")"
   ]
  },
  {
   "cell_type": "code",
   "execution_count": 23,
   "id": "6ce352ad",
   "metadata": {},
   "outputs": [],
   "source": [
    "driver.find_element_by_link_text(search).click( )\n",
    "time.sleep(1)"
   ]
  },
  {
   "cell_type": "code",
   "execution_count": 24,
   "id": "588d9afa",
   "metadata": {},
   "outputs": [
    {
     "name": "stdout",
     "output_type": "stream",
     "text": [
      "에코백\n"
     ]
    }
   ],
   "source": [
    "#작일 랭킹 1위 가져오기\n",
    "Rank = driver.find_elements_by_css_selector('#content > div.spot.section_keyword > div.home_section.active > div > div.keyword_carousel > div > div > div:nth-child(12) > div > div > ul > li:nth-child(1) > a > span')\n",
    "\n",
    "for i in range(0, len(Rank)):   #셀렉터오류로 여러개의 값을 가져올까봐,,, 그냥 for문으로 출력\n",
    "    print(Rank[i].text)"
   ]
  },
  {
   "cell_type": "markdown",
   "id": "03c3fc03",
   "metadata": {},
   "source": [
    "## 네이버쇼핑에서  찾기"
   ]
  },
  {
   "cell_type": "code",
   "execution_count": 37,
   "id": "e2367776",
   "metadata": {},
   "outputs": [
    {
     "ename": "StaleElementReferenceException",
     "evalue": "Message: stale element reference: element is not attached to the page document\n  (Session info: chrome=103.0.5060.66)\nStacktrace:\nBacktrace:\n\tOrdinal0 [0x00C656B3+2184883]\n\tOrdinal0 [0x00BFE5F1+1762801]\n\tOrdinal0 [0x00B13DA8+802216]\n\tOrdinal0 [0x00B16784+812932]\n\tOrdinal0 [0x00B16642+812610]\n\tOrdinal0 [0x00B168D0+813264]\n\tOrdinal0 [0x00B3D61F+972319]\n\tOrdinal0 [0x00B5CB0C+1100556]\n\tOrdinal0 [0x00B382B4+950964]\n\tOrdinal0 [0x00B5CD24+1101092]\n\tOrdinal0 [0x00B6CF52+1167186]\n\tOrdinal0 [0x00B5C926+1100070]\n\tOrdinal0 [0x00B36EA0+945824]\n\tOrdinal0 [0x00B37D96+949654]\n\tGetHandleVerifier [0x00F04192+2704034]\n\tGetHandleVerifier [0x00EF687D+2648461]\n\tGetHandleVerifier [0x00CF119A+529066]\n\tGetHandleVerifier [0x00CF0006+524566]\n\tOrdinal0 [0x00C04F2B+1789739]\n\tOrdinal0 [0x00C09978+1808760]\n\tOrdinal0 [0x00C09A65+1808997]\n\tOrdinal0 [0x00C12A01+1845761]\n\tBaseThreadInitThunk [0x7726FA29+25]\n\tRtlGetAppContainerNamedObjectPath [0x77497A9E+286]\n\tRtlGetAppContainerNamedObjectPath [0x77497A6E+238]\n",
     "output_type": "error",
     "traceback": [
      "\u001b[1;31m---------------------------------------------------------------------------\u001b[0m",
      "\u001b[1;31mStaleElementReferenceException\u001b[0m            Traceback (most recent call last)",
      "Input \u001b[1;32mIn [37]\u001b[0m, in \u001b[0;36m<cell line: 2>\u001b[1;34m()\u001b[0m\n\u001b[0;32m      1\u001b[0m \u001b[38;5;66;03m#키워드 설정\u001b[39;00m\n\u001b[1;32m----> 2\u001b[0m keyword \u001b[38;5;241m=\u001b[39m \u001b[43mRank\u001b[49m\u001b[43m[\u001b[49m\u001b[38;5;241;43m0\u001b[39;49m\u001b[43m]\u001b[49m\u001b[38;5;241;43m.\u001b[39;49m\u001b[43mtext\u001b[49m\n\u001b[0;32m      3\u001b[0m \u001b[38;5;28mprint\u001b[39m(keyword)\n",
      "File \u001b[1;32m~\\anaconda3\\lib\\site-packages\\selenium\\webdriver\\remote\\webelement.py:85\u001b[0m, in \u001b[0;36mWebElement.text\u001b[1;34m(self)\u001b[0m\n\u001b[0;32m     82\u001b[0m \u001b[38;5;129m@property\u001b[39m\n\u001b[0;32m     83\u001b[0m \u001b[38;5;28;01mdef\u001b[39;00m \u001b[38;5;21mtext\u001b[39m(\u001b[38;5;28mself\u001b[39m) \u001b[38;5;241m-\u001b[39m\u001b[38;5;241m>\u001b[39m \u001b[38;5;28mstr\u001b[39m:\n\u001b[0;32m     84\u001b[0m     \u001b[38;5;124;03m\"\"\"The text of the element.\"\"\"\u001b[39;00m\n\u001b[1;32m---> 85\u001b[0m     \u001b[38;5;28;01mreturn\u001b[39;00m \u001b[38;5;28;43mself\u001b[39;49m\u001b[38;5;241;43m.\u001b[39;49m\u001b[43m_execute\u001b[49m\u001b[43m(\u001b[49m\u001b[43mCommand\u001b[49m\u001b[38;5;241;43m.\u001b[39;49m\u001b[43mGET_ELEMENT_TEXT\u001b[49m\u001b[43m)\u001b[49m[\u001b[38;5;124m'\u001b[39m\u001b[38;5;124mvalue\u001b[39m\u001b[38;5;124m'\u001b[39m]\n",
      "File \u001b[1;32m~\\anaconda3\\lib\\site-packages\\selenium\\webdriver\\remote\\webelement.py:773\u001b[0m, in \u001b[0;36mWebElement._execute\u001b[1;34m(self, command, params)\u001b[0m\n\u001b[0;32m    771\u001b[0m     params \u001b[38;5;241m=\u001b[39m {}\n\u001b[0;32m    772\u001b[0m params[\u001b[38;5;124m'\u001b[39m\u001b[38;5;124mid\u001b[39m\u001b[38;5;124m'\u001b[39m] \u001b[38;5;241m=\u001b[39m \u001b[38;5;28mself\u001b[39m\u001b[38;5;241m.\u001b[39m_id\n\u001b[1;32m--> 773\u001b[0m \u001b[38;5;28;01mreturn\u001b[39;00m \u001b[38;5;28;43mself\u001b[39;49m\u001b[38;5;241;43m.\u001b[39;49m\u001b[43m_parent\u001b[49m\u001b[38;5;241;43m.\u001b[39;49m\u001b[43mexecute\u001b[49m\u001b[43m(\u001b[49m\u001b[43mcommand\u001b[49m\u001b[43m,\u001b[49m\u001b[43m \u001b[49m\u001b[43mparams\u001b[49m\u001b[43m)\u001b[49m\n",
      "File \u001b[1;32m~\\anaconda3\\lib\\site-packages\\selenium\\webdriver\\remote\\webdriver.py:430\u001b[0m, in \u001b[0;36mWebDriver.execute\u001b[1;34m(self, driver_command, params)\u001b[0m\n\u001b[0;32m    428\u001b[0m response \u001b[38;5;241m=\u001b[39m \u001b[38;5;28mself\u001b[39m\u001b[38;5;241m.\u001b[39mcommand_executor\u001b[38;5;241m.\u001b[39mexecute(driver_command, params)\n\u001b[0;32m    429\u001b[0m \u001b[38;5;28;01mif\u001b[39;00m response:\n\u001b[1;32m--> 430\u001b[0m     \u001b[38;5;28;43mself\u001b[39;49m\u001b[38;5;241;43m.\u001b[39;49m\u001b[43merror_handler\u001b[49m\u001b[38;5;241;43m.\u001b[39;49m\u001b[43mcheck_response\u001b[49m\u001b[43m(\u001b[49m\u001b[43mresponse\u001b[49m\u001b[43m)\u001b[49m\n\u001b[0;32m    431\u001b[0m     response[\u001b[38;5;124m'\u001b[39m\u001b[38;5;124mvalue\u001b[39m\u001b[38;5;124m'\u001b[39m] \u001b[38;5;241m=\u001b[39m \u001b[38;5;28mself\u001b[39m\u001b[38;5;241m.\u001b[39m_unwrap_value(\n\u001b[0;32m    432\u001b[0m         response\u001b[38;5;241m.\u001b[39mget(\u001b[38;5;124m'\u001b[39m\u001b[38;5;124mvalue\u001b[39m\u001b[38;5;124m'\u001b[39m, \u001b[38;5;28;01mNone\u001b[39;00m))\n\u001b[0;32m    433\u001b[0m     \u001b[38;5;28;01mreturn\u001b[39;00m response\n",
      "File \u001b[1;32m~\\anaconda3\\lib\\site-packages\\selenium\\webdriver\\remote\\errorhandler.py:247\u001b[0m, in \u001b[0;36mErrorHandler.check_response\u001b[1;34m(self, response)\u001b[0m\n\u001b[0;32m    245\u001b[0m         alert_text \u001b[38;5;241m=\u001b[39m value[\u001b[38;5;124m'\u001b[39m\u001b[38;5;124malert\u001b[39m\u001b[38;5;124m'\u001b[39m]\u001b[38;5;241m.\u001b[39mget(\u001b[38;5;124m'\u001b[39m\u001b[38;5;124mtext\u001b[39m\u001b[38;5;124m'\u001b[39m)\n\u001b[0;32m    246\u001b[0m     \u001b[38;5;28;01mraise\u001b[39;00m exception_class(message, screen, stacktrace, alert_text)  \u001b[38;5;66;03m# type: ignore[call-arg]  # mypy is not smart enough here\u001b[39;00m\n\u001b[1;32m--> 247\u001b[0m \u001b[38;5;28;01mraise\u001b[39;00m exception_class(message, screen, stacktrace)\n",
      "\u001b[1;31mStaleElementReferenceException\u001b[0m: Message: stale element reference: element is not attached to the page document\n  (Session info: chrome=103.0.5060.66)\nStacktrace:\nBacktrace:\n\tOrdinal0 [0x00C656B3+2184883]\n\tOrdinal0 [0x00BFE5F1+1762801]\n\tOrdinal0 [0x00B13DA8+802216]\n\tOrdinal0 [0x00B16784+812932]\n\tOrdinal0 [0x00B16642+812610]\n\tOrdinal0 [0x00B168D0+813264]\n\tOrdinal0 [0x00B3D61F+972319]\n\tOrdinal0 [0x00B5CB0C+1100556]\n\tOrdinal0 [0x00B382B4+950964]\n\tOrdinal0 [0x00B5CD24+1101092]\n\tOrdinal0 [0x00B6CF52+1167186]\n\tOrdinal0 [0x00B5C926+1100070]\n\tOrdinal0 [0x00B36EA0+945824]\n\tOrdinal0 [0x00B37D96+949654]\n\tGetHandleVerifier [0x00F04192+2704034]\n\tGetHandleVerifier [0x00EF687D+2648461]\n\tGetHandleVerifier [0x00CF119A+529066]\n\tGetHandleVerifier [0x00CF0006+524566]\n\tOrdinal0 [0x00C04F2B+1789739]\n\tOrdinal0 [0x00C09978+1808760]\n\tOrdinal0 [0x00C09A65+1808997]\n\tOrdinal0 [0x00C12A01+1845761]\n\tBaseThreadInitThunk [0x7726FA29+25]\n\tRtlGetAppContainerNamedObjectPath [0x77497A9E+286]\n\tRtlGetAppContainerNamedObjectPath [0x77497A6E+238]\n"
     ]
    }
   ],
   "source": [
    "#키워드 설정\n",
    "keyword = Rank[0].text\n",
    "print(keyword)"
   ]
  },
  {
   "cell_type": "code",
   "execution_count": 38,
   "id": "33f45a05",
   "metadata": {},
   "outputs": [],
   "source": [
    "#네이버쇼핑으로 이동\n",
    "driver.get(\"https://shopping.naver.com/home/p/index.naver\")"
   ]
  },
  {
   "cell_type": "code",
   "execution_count": 59,
   "id": "f28d5d1b",
   "metadata": {},
   "outputs": [
    {
     "ename": "NoSuchElementException",
     "evalue": "Message: no such element: Unable to locate element: {\"method\":\"css selector\",\"selector\":\"#_verticalGnbModule > div > div._header_header_REoTl > div > div._gnb_header_shop_Xd6Hq > div > div._gnbSearch_search_area_3LAyd > form > fieldset > div > input\"}\n  (Session info: chrome=103.0.5060.66)\nStacktrace:\nBacktrace:\n\tOrdinal0 [0x00C656B3+2184883]\n\tOrdinal0 [0x00BFE5F1+1762801]\n\tOrdinal0 [0x00B13DA8+802216]\n\tOrdinal0 [0x00B41B40+990016]\n\tOrdinal0 [0x00B41DDB+990683]\n\tOrdinal0 [0x00B6EC32+1174578]\n\tOrdinal0 [0x00B5CB54+1100628]\n\tOrdinal0 [0x00B6CF52+1167186]\n\tOrdinal0 [0x00B5C926+1100070]\n\tOrdinal0 [0x00B36EA0+945824]\n\tOrdinal0 [0x00B37D96+949654]\n\tGetHandleVerifier [0x00F04192+2704034]\n\tGetHandleVerifier [0x00EF687D+2648461]\n\tGetHandleVerifier [0x00CF119A+529066]\n\tGetHandleVerifier [0x00CF0006+524566]\n\tOrdinal0 [0x00C04F2B+1789739]\n\tOrdinal0 [0x00C09978+1808760]\n\tOrdinal0 [0x00C09A65+1808997]\n\tOrdinal0 [0x00C12A01+1845761]\n\tBaseThreadInitThunk [0x7726FA29+25]\n\tRtlGetAppContainerNamedObjectPath [0x77497A9E+286]\n\tRtlGetAppContainerNamedObjectPath [0x77497A6E+238]\n",
     "output_type": "error",
     "traceback": [
      "\u001b[1;31m---------------------------------------------------------------------------\u001b[0m",
      "\u001b[1;31mNoSuchElementException\u001b[0m                    Traceback (most recent call last)",
      "Input \u001b[1;32mIn [59]\u001b[0m, in \u001b[0;36m<cell line: 2>\u001b[1;34m()\u001b[0m\n\u001b[0;32m      1\u001b[0m \u001b[38;5;66;03m#커서 클릭\u001b[39;00m\n\u001b[1;32m----> 2\u001b[0m element \u001b[38;5;241m=\u001b[39m \u001b[43mdriver\u001b[49m\u001b[38;5;241;43m.\u001b[39;49m\u001b[43mfind_element_by_css_selector\u001b[49m\u001b[43m(\u001b[49m\u001b[38;5;124;43m\"\u001b[39;49m\u001b[38;5;124;43m#_verticalGnbModule > div > div._header_header_REoTl > div > div._gnb_header_shop_Xd6Hq > div > div._gnbSearch_search_area_3LAyd > form > fieldset > div > input\u001b[39;49m\u001b[38;5;124;43m\"\u001b[39;49m\u001b[43m)\u001b[49m\n\u001b[0;32m      3\u001b[0m element\u001b[38;5;241m.\u001b[39mclick()\n\u001b[0;32m      4\u001b[0m time\u001b[38;5;241m.\u001b[39msleep(\u001b[38;5;241m1\u001b[39m)\n",
      "File \u001b[1;32m~\\anaconda3\\lib\\site-packages\\selenium\\webdriver\\remote\\webdriver.py:814\u001b[0m, in \u001b[0;36mWebDriver.find_element_by_css_selector\u001b[1;34m(self, css_selector)\u001b[0m\n\u001b[0;32m    792\u001b[0m \u001b[38;5;124;03m\"\"\"\u001b[39;00m\n\u001b[0;32m    793\u001b[0m \u001b[38;5;124;03mFinds an element by css selector.\u001b[39;00m\n\u001b[0;32m    794\u001b[0m \n\u001b[1;32m   (...)\u001b[0m\n\u001b[0;32m    807\u001b[0m \u001b[38;5;124;03m        element = driver.find_element_by_css_selector('#foo')\u001b[39;00m\n\u001b[0;32m    808\u001b[0m \u001b[38;5;124;03m\"\"\"\u001b[39;00m\n\u001b[0;32m    809\u001b[0m warnings\u001b[38;5;241m.\u001b[39mwarn(\n\u001b[0;32m    810\u001b[0m     \u001b[38;5;124m\"\u001b[39m\u001b[38;5;124mfind_element_by_css_selector is deprecated. Please use find_element(by=By.CSS_SELECTOR, value=css_selector) instead\u001b[39m\u001b[38;5;124m\"\u001b[39m,\n\u001b[0;32m    811\u001b[0m     \u001b[38;5;167;01mDeprecationWarning\u001b[39;00m,\n\u001b[0;32m    812\u001b[0m     stacklevel\u001b[38;5;241m=\u001b[39m\u001b[38;5;241m2\u001b[39m,\n\u001b[0;32m    813\u001b[0m )\n\u001b[1;32m--> 814\u001b[0m \u001b[38;5;28;01mreturn\u001b[39;00m \u001b[38;5;28;43mself\u001b[39;49m\u001b[38;5;241;43m.\u001b[39;49m\u001b[43mfind_element\u001b[49m\u001b[43m(\u001b[49m\u001b[43mby\u001b[49m\u001b[38;5;241;43m=\u001b[39;49m\u001b[43mBy\u001b[49m\u001b[38;5;241;43m.\u001b[39;49m\u001b[43mCSS_SELECTOR\u001b[49m\u001b[43m,\u001b[49m\u001b[43m \u001b[49m\u001b[43mvalue\u001b[49m\u001b[38;5;241;43m=\u001b[39;49m\u001b[43mcss_selector\u001b[49m\u001b[43m)\u001b[49m\n",
      "File \u001b[1;32m~\\anaconda3\\lib\\site-packages\\selenium\\webdriver\\remote\\webdriver.py:1251\u001b[0m, in \u001b[0;36mWebDriver.find_element\u001b[1;34m(self, by, value)\u001b[0m\n\u001b[0;32m   1248\u001b[0m     by \u001b[38;5;241m=\u001b[39m By\u001b[38;5;241m.\u001b[39mCSS_SELECTOR\n\u001b[0;32m   1249\u001b[0m     value \u001b[38;5;241m=\u001b[39m \u001b[38;5;124m'\u001b[39m\u001b[38;5;124m[name=\u001b[39m\u001b[38;5;124m\"\u001b[39m\u001b[38;5;132;01m%s\u001b[39;00m\u001b[38;5;124m\"\u001b[39m\u001b[38;5;124m]\u001b[39m\u001b[38;5;124m'\u001b[39m \u001b[38;5;241m%\u001b[39m value\n\u001b[1;32m-> 1251\u001b[0m \u001b[38;5;28;01mreturn\u001b[39;00m \u001b[38;5;28;43mself\u001b[39;49m\u001b[38;5;241;43m.\u001b[39;49m\u001b[43mexecute\u001b[49m\u001b[43m(\u001b[49m\u001b[43mCommand\u001b[49m\u001b[38;5;241;43m.\u001b[39;49m\u001b[43mFIND_ELEMENT\u001b[49m\u001b[43m,\u001b[49m\u001b[43m \u001b[49m\u001b[43m{\u001b[49m\n\u001b[0;32m   1252\u001b[0m \u001b[43m    \u001b[49m\u001b[38;5;124;43m'\u001b[39;49m\u001b[38;5;124;43musing\u001b[39;49m\u001b[38;5;124;43m'\u001b[39;49m\u001b[43m:\u001b[49m\u001b[43m \u001b[49m\u001b[43mby\u001b[49m\u001b[43m,\u001b[49m\n\u001b[0;32m   1253\u001b[0m \u001b[43m    \u001b[49m\u001b[38;5;124;43m'\u001b[39;49m\u001b[38;5;124;43mvalue\u001b[39;49m\u001b[38;5;124;43m'\u001b[39;49m\u001b[43m:\u001b[49m\u001b[43m \u001b[49m\u001b[43mvalue\u001b[49m\u001b[43m}\u001b[49m\u001b[43m)\u001b[49m[\u001b[38;5;124m'\u001b[39m\u001b[38;5;124mvalue\u001b[39m\u001b[38;5;124m'\u001b[39m]\n",
      "File \u001b[1;32m~\\anaconda3\\lib\\site-packages\\selenium\\webdriver\\remote\\webdriver.py:430\u001b[0m, in \u001b[0;36mWebDriver.execute\u001b[1;34m(self, driver_command, params)\u001b[0m\n\u001b[0;32m    428\u001b[0m response \u001b[38;5;241m=\u001b[39m \u001b[38;5;28mself\u001b[39m\u001b[38;5;241m.\u001b[39mcommand_executor\u001b[38;5;241m.\u001b[39mexecute(driver_command, params)\n\u001b[0;32m    429\u001b[0m \u001b[38;5;28;01mif\u001b[39;00m response:\n\u001b[1;32m--> 430\u001b[0m     \u001b[38;5;28;43mself\u001b[39;49m\u001b[38;5;241;43m.\u001b[39;49m\u001b[43merror_handler\u001b[49m\u001b[38;5;241;43m.\u001b[39;49m\u001b[43mcheck_response\u001b[49m\u001b[43m(\u001b[49m\u001b[43mresponse\u001b[49m\u001b[43m)\u001b[49m\n\u001b[0;32m    431\u001b[0m     response[\u001b[38;5;124m'\u001b[39m\u001b[38;5;124mvalue\u001b[39m\u001b[38;5;124m'\u001b[39m] \u001b[38;5;241m=\u001b[39m \u001b[38;5;28mself\u001b[39m\u001b[38;5;241m.\u001b[39m_unwrap_value(\n\u001b[0;32m    432\u001b[0m         response\u001b[38;5;241m.\u001b[39mget(\u001b[38;5;124m'\u001b[39m\u001b[38;5;124mvalue\u001b[39m\u001b[38;5;124m'\u001b[39m, \u001b[38;5;28;01mNone\u001b[39;00m))\n\u001b[0;32m    433\u001b[0m     \u001b[38;5;28;01mreturn\u001b[39;00m response\n",
      "File \u001b[1;32m~\\anaconda3\\lib\\site-packages\\selenium\\webdriver\\remote\\errorhandler.py:247\u001b[0m, in \u001b[0;36mErrorHandler.check_response\u001b[1;34m(self, response)\u001b[0m\n\u001b[0;32m    245\u001b[0m         alert_text \u001b[38;5;241m=\u001b[39m value[\u001b[38;5;124m'\u001b[39m\u001b[38;5;124malert\u001b[39m\u001b[38;5;124m'\u001b[39m]\u001b[38;5;241m.\u001b[39mget(\u001b[38;5;124m'\u001b[39m\u001b[38;5;124mtext\u001b[39m\u001b[38;5;124m'\u001b[39m)\n\u001b[0;32m    246\u001b[0m     \u001b[38;5;28;01mraise\u001b[39;00m exception_class(message, screen, stacktrace, alert_text)  \u001b[38;5;66;03m# type: ignore[call-arg]  # mypy is not smart enough here\u001b[39;00m\n\u001b[1;32m--> 247\u001b[0m \u001b[38;5;28;01mraise\u001b[39;00m exception_class(message, screen, stacktrace)\n",
      "\u001b[1;31mNoSuchElementException\u001b[0m: Message: no such element: Unable to locate element: {\"method\":\"css selector\",\"selector\":\"#_verticalGnbModule > div > div._header_header_REoTl > div > div._gnb_header_shop_Xd6Hq > div > div._gnbSearch_search_area_3LAyd > form > fieldset > div > input\"}\n  (Session info: chrome=103.0.5060.66)\nStacktrace:\nBacktrace:\n\tOrdinal0 [0x00C656B3+2184883]\n\tOrdinal0 [0x00BFE5F1+1762801]\n\tOrdinal0 [0x00B13DA8+802216]\n\tOrdinal0 [0x00B41B40+990016]\n\tOrdinal0 [0x00B41DDB+990683]\n\tOrdinal0 [0x00B6EC32+1174578]\n\tOrdinal0 [0x00B5CB54+1100628]\n\tOrdinal0 [0x00B6CF52+1167186]\n\tOrdinal0 [0x00B5C926+1100070]\n\tOrdinal0 [0x00B36EA0+945824]\n\tOrdinal0 [0x00B37D96+949654]\n\tGetHandleVerifier [0x00F04192+2704034]\n\tGetHandleVerifier [0x00EF687D+2648461]\n\tGetHandleVerifier [0x00CF119A+529066]\n\tGetHandleVerifier [0x00CF0006+524566]\n\tOrdinal0 [0x00C04F2B+1789739]\n\tOrdinal0 [0x00C09978+1808760]\n\tOrdinal0 [0x00C09A65+1808997]\n\tOrdinal0 [0x00C12A01+1845761]\n\tBaseThreadInitThunk [0x7726FA29+25]\n\tRtlGetAppContainerNamedObjectPath [0x77497A9E+286]\n\tRtlGetAppContainerNamedObjectPath [0x77497A6E+238]\n"
     ]
    }
   ],
   "source": [
    "#커서 클릭\n",
    "element = driver.find_element_by_css_selector(\"#_verticalGnbModule > div > div._header_header_REoTl > div > div._gnb_header_shop_Xd6Hq > div > div._gnbSearch_search_area_3LAyd > form > fieldset > div > input\")\n",
    "element.click()\n",
    "time.sleep(1)\n",
    "\n",
    "# 검색 창에 검색어 입력 및 클릭\n",
    "# element = driver.find_element_by_css_selector(\"#autocompleteWrapper > input.co_srh_input._input.N\\=a\\:SNB\\.search\")\n",
    "# element.clear()  # 검색창에 존재하는 텍스트가 있다면 제거\n",
    "element.send_keys(keyword)\n",
    "time.sleep(1)\n",
    "driver.find_element_by_css_selector(\"#_verticalGnbModule > div > div._header_header_REoTl > div > div._gnb_header_shop_Xd6Hq > div > div._gnbSearch_search_area_3LAyd > form > fieldset > div > button._searchInput_button_search_1n1aw > svg > path\").click( )\n",
    "time.sleep(1)"
   ]
  },
  {
   "cell_type": "code",
   "execution_count": 60,
   "id": "c35da92c",
   "metadata": {},
   "outputs": [],
   "source": [
    "# 스크롤을 밑으로 내려주는 함수\n",
    "def scroll_down(driver):\n",
    "    driver.execute_script(\"window.scrollTo(0, 99999999)\")\n",
    "    time.sleep(1)\n",
    "\n",
    "# n: 스크롤할 횟수 설정\n",
    "n = 6\n",
    "i = 0\n",
    "while i < n: # 이 조건이 만족되는 동안 반복 실행\n",
    "    scroll_down(driver) # 스크롤 다운\n",
    "    i = i+1\n"
   ]
  },
  {
   "cell_type": "code",
   "execution_count": 61,
   "id": "9b0260c3",
   "metadata": {},
   "outputs": [],
   "source": [
    "#상품 크롤링 시작\n",
    "item_name = '.basicList_title__3P9Q7 .basicList_link__1MaTN'\n",
    "name = driver.find_elements_by_css_selector(item_name)\n",
    "item_price = '.price_num__2WUXn'\n",
    "price = driver.find_elements_by_css_selector(item_price)\n"
   ]
  },
  {
   "cell_type": "code",
   "execution_count": 62,
   "id": "09f7becc",
   "metadata": {},
   "outputs": [],
   "source": [
    "name_list = list(name)\n",
    "price_list = list(price)\n",
    "name_text = []\n",
    "price_text = []"
   ]
  },
  {
   "cell_type": "code",
   "execution_count": 63,
   "id": "96478980",
   "metadata": {},
   "outputs": [],
   "source": [
    "#텍스트 형태로 변환하여 리스트에 넣기\n",
    "for i in range(0, len(name_list)):\n",
    "    name_text.insert(i, name_list[i].text)\n",
    "\n",
    "\n",
    "#텍스트 형태로 변환하여 리스트에 넣기\n",
    "for i in range(0, len(price_list)):\n",
    "    price_text.insert(i, price_list[i].text)\n"
   ]
  },
  {
   "cell_type": "code",
   "execution_count": 64,
   "id": "30e2a133",
   "metadata": {
    "scrolled": true
   },
   "outputs": [
    {
     "name": "stdout",
     "output_type": "stream",
     "text": [
      "['14900', '1200', '65700', '11000', '27200', '18900', '35200', '4900', '24500', '1990', '56000', '3200', '11000', '13500', '13500', '4250', '6060', '17500', '39400', '15900', '43180', '68250', '10170', '6700', '6700', '18000', '1290', '38880', '10800', '15000', '2400', '17500', '12000', '9500', '16900', '39690', '39660', '16600', '26900', '37440', '3600', '24000', '19800', '15900', '38300', '1280']\n",
      "[14900, 1200, 65700, 11000, 27200, 18900, 35200, 4900, 24500, 1990, 56000, 3200, 11000, 13500, 13500, 4250, 6060, 17500, 39400, 15900, 43180, 68250, 10170, 6700, 6700, 18000, 1290, 38880, 10800, 15000, 2400, 17500, 12000, 9500, 16900, 39690, 39660, 16600, 26900, 37440, 3600, 24000, 19800, 15900, 38300, 1280]\n",
      "46\n"
     ]
    }
   ],
   "source": [
    "# 가격 리스트 전처리\n",
    "del1 = '원'\n",
    "del2 = '최저'\n",
    "for i, word in enumerate(price_text):\n",
    "    if del1 in word: \n",
    "        price_text[i] = word.strip(del1)\n",
    "        price_text[i] = price_text[i].replace(',','')\n",
    "\n",
    "for i, word in enumerate(price_text):\n",
    "    if del2 in word: \n",
    "        price_text[i] = word.strip(del2)\n",
    "        price_text[i] = price_text[i].replace(',','')        \n",
    "print(price_text)\n",
    "price_int = [int(i) for i in price_text]\n",
    "print(price_int)\n",
    "print(len(price_int))"
   ]
  },
  {
   "cell_type": "code",
   "execution_count": 65,
   "id": "f941ecea",
   "metadata": {},
   "outputs": [
    {
     "name": "stdout",
     "output_type": "stream",
     "text": [
      "['남자 에코백 빅사이즈 두꺼운 재질 심플 디자인', '무지 에코백 미니에코백 베이지 블랙 판촉용 인쇄 주문 제작 답례품 데일리 캔버스가방 도매', '[APC] 아페쎄 남성 로르 로고 데님 에코백', '남녀공용 helper 에코백 BYLE0001', '캉골 에코 프렌들리백 플러스 0037 에코백 크로스백', '슬링키나인 무지에코백 남자 여자 지퍼 크로스 캔버스 대학생 가방', '캉골 에코 프렌들리백 지피 미디움 0036 가방 에코백', '여성 니트 라탄 그물가방 쇼퍼백 여름 에코백', '드릴리스 에코백 내추럴 에코백', '플리츠 미니 패턴 에코백 도시락 손가방 토트백 주름', '[V&A] 디올 뮤지엄에코백 블랙 그레이 / 박물관 쇼퍼백', '미니 에코백 캔버스백 토트백 손목 피크닉 가방', '남녀공용 사랑 에코백 BYLE0002', '빌리버스 남자에코백 남자숄더백 남자캔버스백 BCB208 P081124443', '레프트필드 국산 지퍼수납 심플에코백 4컬러', '메르시 라탄 린넨 에코백', '편리하고 유용한 가방 정리 이너백 가방정리수납백 에코백 이너백', '스마일 데이지 숄더백 에코백 제작 캔버스백 피크닉 학생 토트백 도시락 미니 가방', '드릴리스 투웨이 써클백 에코백 복조리가방 복조리백', '리솜 캔버스 코튼 가죽 콤비 지퍼 스퀘어 쇼퍼 토트 숄더 에코백', '아페쎄 A.P.C TOTE 데님 에코백 BAG M61445', '아페쎄 다니엘라 에코백 20FW COCSX IAI M61446', '리햅 라이너 페이즐리 에코백', '에코백주문제작 인쇄 만들기가방 단체에코백제작', '에코백주문제작, 단체에코백 만들기 주문제작인쇄', '라인프렌즈 BT21 시티에디션 서울 에코백', '할메이드 휴대용 장바구니 에코백', '쥬에 레오파드 에코백 4 13예약배송', '리솜 레터링 미들 미니 코튼 숄더백 에코백', '뉴즐 핸디 데일리 에코백', '컨버스 미니 스마일 손가방 에코백 대학생 가방 머스타드', '제이시크 페이즐리 핸드메이드 데일리 어깨 리본 에코백', 'HAY Hay Cotton Bag Stripe HAY 에코백', 'Baggu 바쿠 베이비 스탠다드 빅 모음전 장바구니 에코 백', '마카롱 에코백', '캉골키즈 컨버스 키즈 베이직 에코백 OE 0001', '캉골키즈 드로우 스트링 에코백 OE 0005 AOEBEB00050L1', '페이즐리 이미스 에코백 반다나 튼튼한 숄더백', 'YWJ LIBERO 여성가방 여자 대학생 에코백', '쥬에 페이즐리 에코백', '귀염뽀짝 유니크 3컬러 미니 에코백 토트백 손가방', '캉골 쇼퍼백 숄더백 에코백 빅백 기저귀가방', '남자 에코백 숄더백 쇼퍼백 크로스 무지 데일리 텀블러백 대학생가방', '핀스트라이프 캔버스 에코백 패턴 미니 스퀘어 텀블러 토트', '캉골 제리 쇼퍼백 0039 가방 에코백 크로스백', '무지 미니 에코백 비비드컬러']\n"
     ]
    }
   ],
   "source": [
    "print(name_text)"
   ]
  },
  {
   "cell_type": "code",
   "execution_count": 66,
   "id": "5a635403",
   "metadata": {},
   "outputs": [
    {
     "name": "stdout",
     "output_type": "stream",
     "text": [
      "46\n",
      "46\n"
     ]
    }
   ],
   "source": [
    "print(len(name_text))\n",
    "print(len(price_int))"
   ]
  },
  {
   "cell_type": "code",
   "execution_count": 67,
   "id": "c3ca0295",
   "metadata": {},
   "outputs": [],
   "source": [
    "item_df = pd.DataFrame({'Item':name_text, 'Price':price_int})"
   ]
  },
  {
   "cell_type": "code",
   "execution_count": 68,
   "id": "35bc81de",
   "metadata": {},
   "outputs": [
    {
     "data": {
      "text/html": [
       "<div>\n",
       "<style scoped>\n",
       "    .dataframe tbody tr th:only-of-type {\n",
       "        vertical-align: middle;\n",
       "    }\n",
       "\n",
       "    .dataframe tbody tr th {\n",
       "        vertical-align: top;\n",
       "    }\n",
       "\n",
       "    .dataframe thead th {\n",
       "        text-align: right;\n",
       "    }\n",
       "</style>\n",
       "<table border=\"1\" class=\"dataframe\">\n",
       "  <thead>\n",
       "    <tr style=\"text-align: right;\">\n",
       "      <th></th>\n",
       "      <th>Item</th>\n",
       "      <th>Price</th>\n",
       "    </tr>\n",
       "  </thead>\n",
       "  <tbody>\n",
       "    <tr>\n",
       "      <th>0</th>\n",
       "      <td>남자 에코백 빅사이즈 두꺼운 재질 심플 디자인</td>\n",
       "      <td>14900</td>\n",
       "    </tr>\n",
       "    <tr>\n",
       "      <th>1</th>\n",
       "      <td>무지 에코백 미니에코백 베이지 블랙 판촉용 인쇄 주문 제작 답례품 데일리 캔버스가방 도매</td>\n",
       "      <td>1200</td>\n",
       "    </tr>\n",
       "    <tr>\n",
       "      <th>2</th>\n",
       "      <td>[APC] 아페쎄 남성 로르 로고 데님 에코백</td>\n",
       "      <td>65700</td>\n",
       "    </tr>\n",
       "    <tr>\n",
       "      <th>3</th>\n",
       "      <td>남녀공용 helper 에코백 BYLE0001</td>\n",
       "      <td>11000</td>\n",
       "    </tr>\n",
       "    <tr>\n",
       "      <th>4</th>\n",
       "      <td>캉골 에코 프렌들리백 플러스 0037 에코백 크로스백</td>\n",
       "      <td>27200</td>\n",
       "    </tr>\n",
       "    <tr>\n",
       "      <th>5</th>\n",
       "      <td>슬링키나인 무지에코백 남자 여자 지퍼 크로스 캔버스 대학생 가방</td>\n",
       "      <td>18900</td>\n",
       "    </tr>\n",
       "    <tr>\n",
       "      <th>6</th>\n",
       "      <td>캉골 에코 프렌들리백 지피 미디움 0036 가방 에코백</td>\n",
       "      <td>35200</td>\n",
       "    </tr>\n",
       "    <tr>\n",
       "      <th>7</th>\n",
       "      <td>여성 니트 라탄 그물가방 쇼퍼백 여름 에코백</td>\n",
       "      <td>4900</td>\n",
       "    </tr>\n",
       "    <tr>\n",
       "      <th>8</th>\n",
       "      <td>드릴리스 에코백 내추럴 에코백</td>\n",
       "      <td>24500</td>\n",
       "    </tr>\n",
       "    <tr>\n",
       "      <th>9</th>\n",
       "      <td>플리츠 미니 패턴 에코백 도시락 손가방 토트백 주름</td>\n",
       "      <td>1990</td>\n",
       "    </tr>\n",
       "    <tr>\n",
       "      <th>10</th>\n",
       "      <td>[V&amp;A] 디올 뮤지엄에코백 블랙 그레이 / 박물관 쇼퍼백</td>\n",
       "      <td>56000</td>\n",
       "    </tr>\n",
       "    <tr>\n",
       "      <th>11</th>\n",
       "      <td>미니 에코백 캔버스백 토트백 손목 피크닉 가방</td>\n",
       "      <td>3200</td>\n",
       "    </tr>\n",
       "    <tr>\n",
       "      <th>12</th>\n",
       "      <td>남녀공용 사랑 에코백 BYLE0002</td>\n",
       "      <td>11000</td>\n",
       "    </tr>\n",
       "    <tr>\n",
       "      <th>13</th>\n",
       "      <td>빌리버스 남자에코백 남자숄더백 남자캔버스백 BCB208 P081124443</td>\n",
       "      <td>13500</td>\n",
       "    </tr>\n",
       "    <tr>\n",
       "      <th>14</th>\n",
       "      <td>레프트필드 국산 지퍼수납 심플에코백 4컬러</td>\n",
       "      <td>13500</td>\n",
       "    </tr>\n",
       "    <tr>\n",
       "      <th>15</th>\n",
       "      <td>메르시 라탄 린넨 에코백</td>\n",
       "      <td>4250</td>\n",
       "    </tr>\n",
       "    <tr>\n",
       "      <th>16</th>\n",
       "      <td>편리하고 유용한 가방 정리 이너백 가방정리수납백 에코백 이너백</td>\n",
       "      <td>6060</td>\n",
       "    </tr>\n",
       "    <tr>\n",
       "      <th>17</th>\n",
       "      <td>스마일 데이지 숄더백 에코백 제작 캔버스백 피크닉 학생 토트백 도시락 미니 가방</td>\n",
       "      <td>17500</td>\n",
       "    </tr>\n",
       "    <tr>\n",
       "      <th>18</th>\n",
       "      <td>드릴리스 투웨이 써클백 에코백 복조리가방 복조리백</td>\n",
       "      <td>39400</td>\n",
       "    </tr>\n",
       "    <tr>\n",
       "      <th>19</th>\n",
       "      <td>리솜 캔버스 코튼 가죽 콤비 지퍼 스퀘어 쇼퍼 토트 숄더 에코백</td>\n",
       "      <td>15900</td>\n",
       "    </tr>\n",
       "    <tr>\n",
       "      <th>20</th>\n",
       "      <td>아페쎄 A.P.C TOTE 데님 에코백 BAG M61445</td>\n",
       "      <td>43180</td>\n",
       "    </tr>\n",
       "    <tr>\n",
       "      <th>21</th>\n",
       "      <td>아페쎄 다니엘라 에코백 20FW COCSX IAI M61446</td>\n",
       "      <td>68250</td>\n",
       "    </tr>\n",
       "    <tr>\n",
       "      <th>22</th>\n",
       "      <td>리햅 라이너 페이즐리 에코백</td>\n",
       "      <td>10170</td>\n",
       "    </tr>\n",
       "    <tr>\n",
       "      <th>23</th>\n",
       "      <td>에코백주문제작 인쇄 만들기가방 단체에코백제작</td>\n",
       "      <td>6700</td>\n",
       "    </tr>\n",
       "    <tr>\n",
       "      <th>24</th>\n",
       "      <td>에코백주문제작, 단체에코백 만들기 주문제작인쇄</td>\n",
       "      <td>6700</td>\n",
       "    </tr>\n",
       "    <tr>\n",
       "      <th>25</th>\n",
       "      <td>라인프렌즈 BT21 시티에디션 서울 에코백</td>\n",
       "      <td>18000</td>\n",
       "    </tr>\n",
       "    <tr>\n",
       "      <th>26</th>\n",
       "      <td>할메이드 휴대용 장바구니 에코백</td>\n",
       "      <td>1290</td>\n",
       "    </tr>\n",
       "    <tr>\n",
       "      <th>27</th>\n",
       "      <td>쥬에 레오파드 에코백 4 13예약배송</td>\n",
       "      <td>38880</td>\n",
       "    </tr>\n",
       "    <tr>\n",
       "      <th>28</th>\n",
       "      <td>리솜 레터링 미들 미니 코튼 숄더백 에코백</td>\n",
       "      <td>10800</td>\n",
       "    </tr>\n",
       "    <tr>\n",
       "      <th>29</th>\n",
       "      <td>뉴즐 핸디 데일리 에코백</td>\n",
       "      <td>15000</td>\n",
       "    </tr>\n",
       "    <tr>\n",
       "      <th>30</th>\n",
       "      <td>컨버스 미니 스마일 손가방 에코백 대학생 가방 머스타드</td>\n",
       "      <td>2400</td>\n",
       "    </tr>\n",
       "    <tr>\n",
       "      <th>31</th>\n",
       "      <td>제이시크 페이즐리 핸드메이드 데일리 어깨 리본 에코백</td>\n",
       "      <td>17500</td>\n",
       "    </tr>\n",
       "    <tr>\n",
       "      <th>32</th>\n",
       "      <td>HAY Hay Cotton Bag Stripe HAY 에코백</td>\n",
       "      <td>12000</td>\n",
       "    </tr>\n",
       "    <tr>\n",
       "      <th>33</th>\n",
       "      <td>Baggu 바쿠 베이비 스탠다드 빅 모음전 장바구니 에코 백</td>\n",
       "      <td>9500</td>\n",
       "    </tr>\n",
       "    <tr>\n",
       "      <th>34</th>\n",
       "      <td>마카롱 에코백</td>\n",
       "      <td>16900</td>\n",
       "    </tr>\n",
       "    <tr>\n",
       "      <th>35</th>\n",
       "      <td>캉골키즈 컨버스 키즈 베이직 에코백 OE 0001</td>\n",
       "      <td>39690</td>\n",
       "    </tr>\n",
       "    <tr>\n",
       "      <th>36</th>\n",
       "      <td>캉골키즈 드로우 스트링 에코백 OE 0005 AOEBEB00050L1</td>\n",
       "      <td>39660</td>\n",
       "    </tr>\n",
       "    <tr>\n",
       "      <th>37</th>\n",
       "      <td>페이즐리 이미스 에코백 반다나 튼튼한 숄더백</td>\n",
       "      <td>16600</td>\n",
       "    </tr>\n",
       "    <tr>\n",
       "      <th>38</th>\n",
       "      <td>YWJ LIBERO 여성가방 여자 대학생 에코백</td>\n",
       "      <td>26900</td>\n",
       "    </tr>\n",
       "    <tr>\n",
       "      <th>39</th>\n",
       "      <td>쥬에 페이즐리 에코백</td>\n",
       "      <td>37440</td>\n",
       "    </tr>\n",
       "    <tr>\n",
       "      <th>40</th>\n",
       "      <td>귀염뽀짝 유니크 3컬러 미니 에코백 토트백 손가방</td>\n",
       "      <td>3600</td>\n",
       "    </tr>\n",
       "    <tr>\n",
       "      <th>41</th>\n",
       "      <td>캉골 쇼퍼백 숄더백 에코백 빅백 기저귀가방</td>\n",
       "      <td>24000</td>\n",
       "    </tr>\n",
       "    <tr>\n",
       "      <th>42</th>\n",
       "      <td>남자 에코백 숄더백 쇼퍼백 크로스 무지 데일리 텀블러백 대학생가방</td>\n",
       "      <td>19800</td>\n",
       "    </tr>\n",
       "    <tr>\n",
       "      <th>43</th>\n",
       "      <td>핀스트라이프 캔버스 에코백 패턴 미니 스퀘어 텀블러 토트</td>\n",
       "      <td>15900</td>\n",
       "    </tr>\n",
       "    <tr>\n",
       "      <th>44</th>\n",
       "      <td>캉골 제리 쇼퍼백 0039 가방 에코백 크로스백</td>\n",
       "      <td>38300</td>\n",
       "    </tr>\n",
       "    <tr>\n",
       "      <th>45</th>\n",
       "      <td>무지 미니 에코백 비비드컬러</td>\n",
       "      <td>1280</td>\n",
       "    </tr>\n",
       "  </tbody>\n",
       "</table>\n",
       "</div>"
      ],
      "text/plain": [
       "                                                 Item  Price\n",
       "0                           남자 에코백 빅사이즈 두꺼운 재질 심플 디자인  14900\n",
       "1   무지 에코백 미니에코백 베이지 블랙 판촉용 인쇄 주문 제작 답례품 데일리 캔버스가방 도매   1200\n",
       "2                           [APC] 아페쎄 남성 로르 로고 데님 에코백  65700\n",
       "3                            남녀공용 helper 에코백 BYLE0001  11000\n",
       "4                       캉골 에코 프렌들리백 플러스 0037 에코백 크로스백  27200\n",
       "5                 슬링키나인 무지에코백 남자 여자 지퍼 크로스 캔버스 대학생 가방  18900\n",
       "6                      캉골 에코 프렌들리백 지피 미디움 0036 가방 에코백  35200\n",
       "7                            여성 니트 라탄 그물가방 쇼퍼백 여름 에코백   4900\n",
       "8                                    드릴리스 에코백 내추럴 에코백  24500\n",
       "9                        플리츠 미니 패턴 에코백 도시락 손가방 토트백 주름   1990\n",
       "10                   [V&A] 디올 뮤지엄에코백 블랙 그레이 / 박물관 쇼퍼백  56000\n",
       "11                          미니 에코백 캔버스백 토트백 손목 피크닉 가방   3200\n",
       "12                               남녀공용 사랑 에코백 BYLE0002  11000\n",
       "13          빌리버스 남자에코백 남자숄더백 남자캔버스백 BCB208 P081124443  13500\n",
       "14                            레프트필드 국산 지퍼수납 심플에코백 4컬러  13500\n",
       "15                                      메르시 라탄 린넨 에코백   4250\n",
       "16                 편리하고 유용한 가방 정리 이너백 가방정리수납백 에코백 이너백   6060\n",
       "17       스마일 데이지 숄더백 에코백 제작 캔버스백 피크닉 학생 토트백 도시락 미니 가방  17500\n",
       "18                        드릴리스 투웨이 써클백 에코백 복조리가방 복조리백  39400\n",
       "19                리솜 캔버스 코튼 가죽 콤비 지퍼 스퀘어 쇼퍼 토트 숄더 에코백  15900\n",
       "20                   아페쎄 A.P.C TOTE 데님 에코백 BAG M61445  43180\n",
       "21                 아페쎄 다니엘라 에코백 20FW COCSX IAI M61446  68250\n",
       "22                                    리햅 라이너 페이즐리 에코백  10170\n",
       "23                           에코백주문제작 인쇄 만들기가방 단체에코백제작   6700\n",
       "24                          에코백주문제작, 단체에코백 만들기 주문제작인쇄   6700\n",
       "25                            라인프렌즈 BT21 시티에디션 서울 에코백  18000\n",
       "26                                  할메이드 휴대용 장바구니 에코백   1290\n",
       "27                               쥬에 레오파드 에코백 4 13예약배송  38880\n",
       "28                            리솜 레터링 미들 미니 코튼 숄더백 에코백  10800\n",
       "29                                      뉴즐 핸디 데일리 에코백  15000\n",
       "30                     컨버스 미니 스마일 손가방 에코백 대학생 가방 머스타드   2400\n",
       "31                      제이시크 페이즐리 핸드메이드 데일리 어깨 리본 에코백  17500\n",
       "32                  HAY Hay Cotton Bag Stripe HAY 에코백  12000\n",
       "33                  Baggu 바쿠 베이비 스탠다드 빅 모음전 장바구니 에코 백   9500\n",
       "34                                            마카롱 에코백  16900\n",
       "35                        캉골키즈 컨버스 키즈 베이직 에코백 OE 0001  39690\n",
       "36             캉골키즈 드로우 스트링 에코백 OE 0005 AOEBEB00050L1  39660\n",
       "37                           페이즐리 이미스 에코백 반다나 튼튼한 숄더백  16600\n",
       "38                         YWJ LIBERO 여성가방 여자 대학생 에코백  26900\n",
       "39                                        쥬에 페이즐리 에코백  37440\n",
       "40                        귀염뽀짝 유니크 3컬러 미니 에코백 토트백 손가방   3600\n",
       "41                            캉골 쇼퍼백 숄더백 에코백 빅백 기저귀가방  24000\n",
       "42               남자 에코백 숄더백 쇼퍼백 크로스 무지 데일리 텀블러백 대학생가방  19800\n",
       "43                    핀스트라이프 캔버스 에코백 패턴 미니 스퀘어 텀블러 토트  15900\n",
       "44                         캉골 제리 쇼퍼백 0039 가방 에코백 크로스백  38300\n",
       "45                                    무지 미니 에코백 비비드컬러   1280"
      ]
     },
     "execution_count": 68,
     "metadata": {},
     "output_type": "execute_result"
    }
   ],
   "source": [
    "item_df"
   ]
  },
  {
   "cell_type": "code",
   "execution_count": 69,
   "id": "1d4ce6d0",
   "metadata": {},
   "outputs": [
    {
     "data": {
      "text/plain": [
       "pandas.core.frame.DataFrame"
      ]
     },
     "execution_count": 69,
     "metadata": {},
     "output_type": "execute_result"
    }
   ],
   "source": [
    "# 데이터프레임 저장 확인\n",
    "type(item_df)"
   ]
  },
  {
   "cell_type": "code",
   "execution_count": 70,
   "id": "1a878e89",
   "metadata": {},
   "outputs": [],
   "source": [
    "# 파일 저장하기\n",
    "item_df.to_csv(\"Naver_Trend_Analysis.csv\", encoding='utf-8-sig')"
   ]
  },
  {
   "cell_type": "code",
   "execution_count": 71,
   "id": "d8470cf3",
   "metadata": {},
   "outputs": [
    {
     "data": {
      "text/plain": [
       "'C:\\\\Users\\\\andam\\\\Desktop\\\\Code\\\\Project_1'"
      ]
     },
     "execution_count": 71,
     "metadata": {},
     "output_type": "execute_result"
    }
   ],
   "source": [
    "pwd"
   ]
  },
  {
   "cell_type": "markdown",
   "id": "eaa89d95",
   "metadata": {},
   "source": [
    "## 데이터 시각화"
   ]
  },
  {
   "cell_type": "code",
   "execution_count": 72,
   "id": "1cfbc4aa",
   "metadata": {},
   "outputs": [],
   "source": [
    "# 필요한 라이브러리 임포트\n",
    "import pandas as pd\n",
    "import numpy as np\n",
    "\n",
    "import matplotlib.pyplot as plt  # 시각화 라이브러리\n",
    "import seaborn as sns            # 시각화 라이브러리\n",
    "# import plotly      # interactive visualization library\n",
    "\n",
    "from tqdm import tqdm_notebook   # for문 진행상황을 게이지로 알려줌\n",
    "\n",
    "# 파이썬 warning 무시\n",
    "import warnings\n",
    "warnings.filterwarnings(action='ignore')"
   ]
  },
  {
   "cell_type": "code",
   "execution_count": 73,
   "id": "70ff154f",
   "metadata": {
    "scrolled": true
   },
   "outputs": [
    {
     "data": {
      "text/html": [
       "<div>\n",
       "<style scoped>\n",
       "    .dataframe tbody tr th:only-of-type {\n",
       "        vertical-align: middle;\n",
       "    }\n",
       "\n",
       "    .dataframe tbody tr th {\n",
       "        vertical-align: top;\n",
       "    }\n",
       "\n",
       "    .dataframe thead th {\n",
       "        text-align: right;\n",
       "    }\n",
       "</style>\n",
       "<table border=\"1\" class=\"dataframe\">\n",
       "  <thead>\n",
       "    <tr style=\"text-align: right;\">\n",
       "      <th></th>\n",
       "      <th>Item</th>\n",
       "      <th>Price</th>\n",
       "    </tr>\n",
       "  </thead>\n",
       "  <tbody>\n",
       "    <tr>\n",
       "      <th>21</th>\n",
       "      <td>아페쎄 다니엘라 에코백 20FW COCSX IAI M61446</td>\n",
       "      <td>68250</td>\n",
       "    </tr>\n",
       "    <tr>\n",
       "      <th>2</th>\n",
       "      <td>[APC] 아페쎄 남성 로르 로고 데님 에코백</td>\n",
       "      <td>65700</td>\n",
       "    </tr>\n",
       "    <tr>\n",
       "      <th>10</th>\n",
       "      <td>[V&amp;A] 디올 뮤지엄에코백 블랙 그레이 / 박물관 쇼퍼백</td>\n",
       "      <td>56000</td>\n",
       "    </tr>\n",
       "    <tr>\n",
       "      <th>20</th>\n",
       "      <td>아페쎄 A.P.C TOTE 데님 에코백 BAG M61445</td>\n",
       "      <td>43180</td>\n",
       "    </tr>\n",
       "    <tr>\n",
       "      <th>35</th>\n",
       "      <td>캉골키즈 컨버스 키즈 베이직 에코백 OE 0001</td>\n",
       "      <td>39690</td>\n",
       "    </tr>\n",
       "    <tr>\n",
       "      <th>36</th>\n",
       "      <td>캉골키즈 드로우 스트링 에코백 OE 0005 AOEBEB00050L1</td>\n",
       "      <td>39660</td>\n",
       "    </tr>\n",
       "    <tr>\n",
       "      <th>18</th>\n",
       "      <td>드릴리스 투웨이 써클백 에코백 복조리가방 복조리백</td>\n",
       "      <td>39400</td>\n",
       "    </tr>\n",
       "    <tr>\n",
       "      <th>27</th>\n",
       "      <td>쥬에 레오파드 에코백 4 13예약배송</td>\n",
       "      <td>38880</td>\n",
       "    </tr>\n",
       "    <tr>\n",
       "      <th>44</th>\n",
       "      <td>캉골 제리 쇼퍼백 0039 가방 에코백 크로스백</td>\n",
       "      <td>38300</td>\n",
       "    </tr>\n",
       "    <tr>\n",
       "      <th>39</th>\n",
       "      <td>쥬에 페이즐리 에코백</td>\n",
       "      <td>37440</td>\n",
       "    </tr>\n",
       "    <tr>\n",
       "      <th>6</th>\n",
       "      <td>캉골 에코 프렌들리백 지피 미디움 0036 가방 에코백</td>\n",
       "      <td>35200</td>\n",
       "    </tr>\n",
       "    <tr>\n",
       "      <th>4</th>\n",
       "      <td>캉골 에코 프렌들리백 플러스 0037 에코백 크로스백</td>\n",
       "      <td>27200</td>\n",
       "    </tr>\n",
       "    <tr>\n",
       "      <th>38</th>\n",
       "      <td>YWJ LIBERO 여성가방 여자 대학생 에코백</td>\n",
       "      <td>26900</td>\n",
       "    </tr>\n",
       "    <tr>\n",
       "      <th>8</th>\n",
       "      <td>드릴리스 에코백 내추럴 에코백</td>\n",
       "      <td>24500</td>\n",
       "    </tr>\n",
       "    <tr>\n",
       "      <th>41</th>\n",
       "      <td>캉골 쇼퍼백 숄더백 에코백 빅백 기저귀가방</td>\n",
       "      <td>24000</td>\n",
       "    </tr>\n",
       "    <tr>\n",
       "      <th>42</th>\n",
       "      <td>남자 에코백 숄더백 쇼퍼백 크로스 무지 데일리 텀블러백 대학생가방</td>\n",
       "      <td>19800</td>\n",
       "    </tr>\n",
       "    <tr>\n",
       "      <th>5</th>\n",
       "      <td>슬링키나인 무지에코백 남자 여자 지퍼 크로스 캔버스 대학생 가방</td>\n",
       "      <td>18900</td>\n",
       "    </tr>\n",
       "    <tr>\n",
       "      <th>25</th>\n",
       "      <td>라인프렌즈 BT21 시티에디션 서울 에코백</td>\n",
       "      <td>18000</td>\n",
       "    </tr>\n",
       "    <tr>\n",
       "      <th>17</th>\n",
       "      <td>스마일 데이지 숄더백 에코백 제작 캔버스백 피크닉 학생 토트백 도시락 미니 가방</td>\n",
       "      <td>17500</td>\n",
       "    </tr>\n",
       "    <tr>\n",
       "      <th>31</th>\n",
       "      <td>제이시크 페이즐리 핸드메이드 데일리 어깨 리본 에코백</td>\n",
       "      <td>17500</td>\n",
       "    </tr>\n",
       "    <tr>\n",
       "      <th>34</th>\n",
       "      <td>마카롱 에코백</td>\n",
       "      <td>16900</td>\n",
       "    </tr>\n",
       "    <tr>\n",
       "      <th>37</th>\n",
       "      <td>페이즐리 이미스 에코백 반다나 튼튼한 숄더백</td>\n",
       "      <td>16600</td>\n",
       "    </tr>\n",
       "    <tr>\n",
       "      <th>19</th>\n",
       "      <td>리솜 캔버스 코튼 가죽 콤비 지퍼 스퀘어 쇼퍼 토트 숄더 에코백</td>\n",
       "      <td>15900</td>\n",
       "    </tr>\n",
       "    <tr>\n",
       "      <th>43</th>\n",
       "      <td>핀스트라이프 캔버스 에코백 패턴 미니 스퀘어 텀블러 토트</td>\n",
       "      <td>15900</td>\n",
       "    </tr>\n",
       "    <tr>\n",
       "      <th>29</th>\n",
       "      <td>뉴즐 핸디 데일리 에코백</td>\n",
       "      <td>15000</td>\n",
       "    </tr>\n",
       "    <tr>\n",
       "      <th>0</th>\n",
       "      <td>남자 에코백 빅사이즈 두꺼운 재질 심플 디자인</td>\n",
       "      <td>14900</td>\n",
       "    </tr>\n",
       "    <tr>\n",
       "      <th>14</th>\n",
       "      <td>레프트필드 국산 지퍼수납 심플에코백 4컬러</td>\n",
       "      <td>13500</td>\n",
       "    </tr>\n",
       "    <tr>\n",
       "      <th>13</th>\n",
       "      <td>빌리버스 남자에코백 남자숄더백 남자캔버스백 BCB208 P081124443</td>\n",
       "      <td>13500</td>\n",
       "    </tr>\n",
       "    <tr>\n",
       "      <th>32</th>\n",
       "      <td>HAY Hay Cotton Bag Stripe HAY 에코백</td>\n",
       "      <td>12000</td>\n",
       "    </tr>\n",
       "    <tr>\n",
       "      <th>12</th>\n",
       "      <td>남녀공용 사랑 에코백 BYLE0002</td>\n",
       "      <td>11000</td>\n",
       "    </tr>\n",
       "    <tr>\n",
       "      <th>3</th>\n",
       "      <td>남녀공용 helper 에코백 BYLE0001</td>\n",
       "      <td>11000</td>\n",
       "    </tr>\n",
       "    <tr>\n",
       "      <th>28</th>\n",
       "      <td>리솜 레터링 미들 미니 코튼 숄더백 에코백</td>\n",
       "      <td>10800</td>\n",
       "    </tr>\n",
       "    <tr>\n",
       "      <th>22</th>\n",
       "      <td>리햅 라이너 페이즐리 에코백</td>\n",
       "      <td>10170</td>\n",
       "    </tr>\n",
       "    <tr>\n",
       "      <th>33</th>\n",
       "      <td>Baggu 바쿠 베이비 스탠다드 빅 모음전 장바구니 에코 백</td>\n",
       "      <td>9500</td>\n",
       "    </tr>\n",
       "    <tr>\n",
       "      <th>23</th>\n",
       "      <td>에코백주문제작 인쇄 만들기가방 단체에코백제작</td>\n",
       "      <td>6700</td>\n",
       "    </tr>\n",
       "    <tr>\n",
       "      <th>24</th>\n",
       "      <td>에코백주문제작, 단체에코백 만들기 주문제작인쇄</td>\n",
       "      <td>6700</td>\n",
       "    </tr>\n",
       "    <tr>\n",
       "      <th>16</th>\n",
       "      <td>편리하고 유용한 가방 정리 이너백 가방정리수납백 에코백 이너백</td>\n",
       "      <td>6060</td>\n",
       "    </tr>\n",
       "    <tr>\n",
       "      <th>7</th>\n",
       "      <td>여성 니트 라탄 그물가방 쇼퍼백 여름 에코백</td>\n",
       "      <td>4900</td>\n",
       "    </tr>\n",
       "    <tr>\n",
       "      <th>15</th>\n",
       "      <td>메르시 라탄 린넨 에코백</td>\n",
       "      <td>4250</td>\n",
       "    </tr>\n",
       "    <tr>\n",
       "      <th>40</th>\n",
       "      <td>귀염뽀짝 유니크 3컬러 미니 에코백 토트백 손가방</td>\n",
       "      <td>3600</td>\n",
       "    </tr>\n",
       "    <tr>\n",
       "      <th>11</th>\n",
       "      <td>미니 에코백 캔버스백 토트백 손목 피크닉 가방</td>\n",
       "      <td>3200</td>\n",
       "    </tr>\n",
       "    <tr>\n",
       "      <th>30</th>\n",
       "      <td>컨버스 미니 스마일 손가방 에코백 대학생 가방 머스타드</td>\n",
       "      <td>2400</td>\n",
       "    </tr>\n",
       "    <tr>\n",
       "      <th>9</th>\n",
       "      <td>플리츠 미니 패턴 에코백 도시락 손가방 토트백 주름</td>\n",
       "      <td>1990</td>\n",
       "    </tr>\n",
       "    <tr>\n",
       "      <th>26</th>\n",
       "      <td>할메이드 휴대용 장바구니 에코백</td>\n",
       "      <td>1290</td>\n",
       "    </tr>\n",
       "    <tr>\n",
       "      <th>45</th>\n",
       "      <td>무지 미니 에코백 비비드컬러</td>\n",
       "      <td>1280</td>\n",
       "    </tr>\n",
       "    <tr>\n",
       "      <th>1</th>\n",
       "      <td>무지 에코백 미니에코백 베이지 블랙 판촉용 인쇄 주문 제작 답례품 데일리 캔버스가방 도매</td>\n",
       "      <td>1200</td>\n",
       "    </tr>\n",
       "  </tbody>\n",
       "</table>\n",
       "</div>"
      ],
      "text/plain": [
       "                                                 Item  Price\n",
       "21                 아페쎄 다니엘라 에코백 20FW COCSX IAI M61446  68250\n",
       "2                           [APC] 아페쎄 남성 로르 로고 데님 에코백  65700\n",
       "10                   [V&A] 디올 뮤지엄에코백 블랙 그레이 / 박물관 쇼퍼백  56000\n",
       "20                   아페쎄 A.P.C TOTE 데님 에코백 BAG M61445  43180\n",
       "35                        캉골키즈 컨버스 키즈 베이직 에코백 OE 0001  39690\n",
       "36             캉골키즈 드로우 스트링 에코백 OE 0005 AOEBEB00050L1  39660\n",
       "18                        드릴리스 투웨이 써클백 에코백 복조리가방 복조리백  39400\n",
       "27                               쥬에 레오파드 에코백 4 13예약배송  38880\n",
       "44                         캉골 제리 쇼퍼백 0039 가방 에코백 크로스백  38300\n",
       "39                                        쥬에 페이즐리 에코백  37440\n",
       "6                      캉골 에코 프렌들리백 지피 미디움 0036 가방 에코백  35200\n",
       "4                       캉골 에코 프렌들리백 플러스 0037 에코백 크로스백  27200\n",
       "38                         YWJ LIBERO 여성가방 여자 대학생 에코백  26900\n",
       "8                                    드릴리스 에코백 내추럴 에코백  24500\n",
       "41                            캉골 쇼퍼백 숄더백 에코백 빅백 기저귀가방  24000\n",
       "42               남자 에코백 숄더백 쇼퍼백 크로스 무지 데일리 텀블러백 대학생가방  19800\n",
       "5                 슬링키나인 무지에코백 남자 여자 지퍼 크로스 캔버스 대학생 가방  18900\n",
       "25                            라인프렌즈 BT21 시티에디션 서울 에코백  18000\n",
       "17       스마일 데이지 숄더백 에코백 제작 캔버스백 피크닉 학생 토트백 도시락 미니 가방  17500\n",
       "31                      제이시크 페이즐리 핸드메이드 데일리 어깨 리본 에코백  17500\n",
       "34                                            마카롱 에코백  16900\n",
       "37                           페이즐리 이미스 에코백 반다나 튼튼한 숄더백  16600\n",
       "19                리솜 캔버스 코튼 가죽 콤비 지퍼 스퀘어 쇼퍼 토트 숄더 에코백  15900\n",
       "43                    핀스트라이프 캔버스 에코백 패턴 미니 스퀘어 텀블러 토트  15900\n",
       "29                                      뉴즐 핸디 데일리 에코백  15000\n",
       "0                           남자 에코백 빅사이즈 두꺼운 재질 심플 디자인  14900\n",
       "14                            레프트필드 국산 지퍼수납 심플에코백 4컬러  13500\n",
       "13          빌리버스 남자에코백 남자숄더백 남자캔버스백 BCB208 P081124443  13500\n",
       "32                  HAY Hay Cotton Bag Stripe HAY 에코백  12000\n",
       "12                               남녀공용 사랑 에코백 BYLE0002  11000\n",
       "3                            남녀공용 helper 에코백 BYLE0001  11000\n",
       "28                            리솜 레터링 미들 미니 코튼 숄더백 에코백  10800\n",
       "22                                    리햅 라이너 페이즐리 에코백  10170\n",
       "33                  Baggu 바쿠 베이비 스탠다드 빅 모음전 장바구니 에코 백   9500\n",
       "23                           에코백주문제작 인쇄 만들기가방 단체에코백제작   6700\n",
       "24                          에코백주문제작, 단체에코백 만들기 주문제작인쇄   6700\n",
       "16                 편리하고 유용한 가방 정리 이너백 가방정리수납백 에코백 이너백   6060\n",
       "7                            여성 니트 라탄 그물가방 쇼퍼백 여름 에코백   4900\n",
       "15                                      메르시 라탄 린넨 에코백   4250\n",
       "40                        귀염뽀짝 유니크 3컬러 미니 에코백 토트백 손가방   3600\n",
       "11                          미니 에코백 캔버스백 토트백 손목 피크닉 가방   3200\n",
       "30                     컨버스 미니 스마일 손가방 에코백 대학생 가방 머스타드   2400\n",
       "9                        플리츠 미니 패턴 에코백 도시락 손가방 토트백 주름   1990\n",
       "26                                  할메이드 휴대용 장바구니 에코백   1290\n",
       "45                                    무지 미니 에코백 비비드컬러   1280\n",
       "1   무지 에코백 미니에코백 베이지 블랙 판촉용 인쇄 주문 제작 답례품 데일리 캔버스가방 도매   1200"
      ]
     },
     "execution_count": 73,
     "metadata": {},
     "output_type": "execute_result"
    }
   ],
   "source": [
    "item_df.sort_values(by='Price', axis=0, ascending=False, inplace=True)\n",
    "item_df"
   ]
  },
  {
   "cell_type": "code",
   "execution_count": 76,
   "id": "d28da887",
   "metadata": {},
   "outputs": [
    {
     "data": {
      "image/png": "[encoded data removed]",
      "text/plain": [
       "<Figure size 1440x720 with 1 Axes>"
      ]
     },
     "metadata": {
      "needs_background": "light"
     },
     "output_type": "display_data"
    }
   ],
   "source": [
    "# figure size 지정\n",
    "plt.figure(figsize = (20, 10))\n",
    "\n",
    "# displot 함수로 분포 그리기\n",
    "item_vi = sns.distplot(item_df.Price, rug=True, kde=True)\n",
    "\n",
    "# 제목, x라벨 ,y라벨 지정\n",
    "item_vi.set_title('Naver Trend', fontsize=18)\n",
    "item_vi.set_xlabel('Price', fontdict={'size':16})\n",
    "item_vi.set_ylabel('Distibution Rate', fontdict={'size':16})\n",
    "\n",
    "plt.show()"
   ]
  },
  {
   "cell_type": "code",
   "execution_count": null,
   "id": "8fca203e",
   "metadata": {},
   "outputs": [],
   "source": []
  }
 ],
 "metadata": {
  "kernelspec": {
   "display_name": "Python 3 (ipykernel)",
   "language": "python",
   "name": "python3"
  },
  "language_info": {
   "codemirror_mode": {
    "name": "ipython",
    "version": 3
   },
   "file_extension": ".py",
   "mimetype": "text/x-python",
   "name": "python",
   "nbconvert_exporter": "python",
   "pygments_lexer": "ipython3",
   "version": "3.9.12"
  },
  "toc": {
   "base_numbering": 1,
   "nav_menu": {},
   "number_sections": true,
   "sideBar": true,
   "skip_h1_title": false,
   "title_cell": "Table of Contents",
   "title_sidebar": "Contents",
   "toc_cell": false,
   "toc_position": {},
   "toc_section_display": true,
   "toc_window_display": false
  }
 },
 "nbformat": 4,
 "nbformat_minor": 5
}
